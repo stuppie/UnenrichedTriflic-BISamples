{
 "cells": [
  {
   "cell_type": "code",
   "execution_count": null,
   "metadata": {},
   "outputs": [],
   "source": [
    "# http://bioconductor.org/packages/devel/bioc/vignettes/DESeq2/inst/doc/DESeq2.html#plot-counts"
   ]
  },
  {
   "cell_type": "code",
   "execution_count": 1,
   "metadata": {},
   "outputs": [
    {
     "name": "stderr",
     "output_type": "stream",
     "text": [
      "Loading required package: Biobase\n",
      "Loading required package: BiocGenerics\n",
      "Loading required package: parallel\n",
      "\n",
      "Attaching package: ‘BiocGenerics’\n",
      "\n",
      "The following objects are masked from ‘package:parallel’:\n",
      "\n",
      "    clusterApply, clusterApplyLB, clusterCall, clusterEvalQ,\n",
      "    clusterExport, clusterMap, parApply, parCapply, parLapply,\n",
      "    parLapplyLB, parRapply, parSapply, parSapplyLB\n",
      "\n",
      "The following objects are masked from ‘package:stats’:\n",
      "\n",
      "    IQR, mad, sd, var, xtabs\n",
      "\n",
      "The following objects are masked from ‘package:base’:\n",
      "\n",
      "    anyDuplicated, append, as.data.frame, cbind, colMeans, colnames,\n",
      "    colSums, do.call, duplicated, eval, evalq, Filter, Find, get, grep,\n",
      "    grepl, intersect, is.unsorted, lapply, lengths, Map, mapply, match,\n",
      "    mget, order, paste, pmax, pmax.int, pmin, pmin.int, Position, rank,\n",
      "    rbind, Reduce, rowMeans, rownames, rowSums, sapply, setdiff, sort,\n",
      "    table, tapply, union, unique, unsplit, which, which.max, which.min\n",
      "\n",
      "Welcome to Bioconductor\n",
      "\n",
      "    Vignettes contain introductory material; view with\n",
      "    'browseVignettes()'. To cite Bioconductor, see\n",
      "    'citation(\"Biobase\")', and for packages 'citation(\"pkgname\")'.\n",
      "\n",
      "Loading required package: lattice\n",
      "Loading required package: annotate\n",
      "Loading required package: AnnotationDbi\n",
      "Loading required package: stats4\n",
      "Loading required package: IRanges\n",
      "Loading required package: S4Vectors\n",
      "\n",
      "Attaching package: ‘S4Vectors’\n",
      "\n",
      "The following object is masked from ‘package:base’:\n",
      "\n",
      "    expand.grid\n",
      "\n",
      "Loading required package: XML\n",
      "Loading required package: GenomicRanges\n",
      "Loading required package: GenomeInfoDb\n",
      "Loading required package: SummarizedExperiment\n",
      "Loading required package: DelayedArray\n",
      "Loading required package: matrixStats\n",
      "\n",
      "Attaching package: ‘matrixStats’\n",
      "\n",
      "The following objects are masked from ‘package:genefilter’:\n",
      "\n",
      "    rowSds, rowVars\n",
      "\n",
      "The following objects are masked from ‘package:Biobase’:\n",
      "\n",
      "    anyMissing, rowMedians\n",
      "\n",
      "\n",
      "Attaching package: ‘DelayedArray’\n",
      "\n",
      "The following objects are masked from ‘package:matrixStats’:\n",
      "\n",
      "    colMaxs, colMins, colRanges, rowMaxs, rowMins, rowRanges\n",
      "\n",
      "The following object is masked from ‘package:base’:\n",
      "\n",
      "    apply\n",
      "\n"
     ]
    },
    {
     "data": {
      "text/html": [
       "'/home/gstupp/projects/Wolan/triflic_BI/UnenrichedTriflic-BISamples'"
      ],
      "text/latex": [
       "'/home/gstupp/projects/Wolan/triflic\\_BI/UnenrichedTriflic-BISamples'"
      ],
      "text/markdown": [
       "'/home/gstupp/projects/Wolan/triflic_BI/UnenrichedTriflic-BISamples'"
      ],
      "text/plain": [
       "[1] \"/home/gstupp/projects/Wolan/triflic_BI/UnenrichedTriflic-BISamples\""
      ]
     },
     "metadata": {},
     "output_type": "display_data"
    }
   ],
   "source": [
    "library(\"geneplotter\")\n",
    "library(\"ggplot2\")\n",
    "library(\"vsn\")\n",
    "library(\"genefilter\")\n",
    "library(\"DESeq2\")\n",
    "getwd()"
   ]
  },
  {
   "cell_type": "code",
   "execution_count": 26,
   "metadata": {},
   "outputs": [],
   "source": [
    "load(\"out/dds\")\n",
    "load(\"out/res_probe_unenriched\")\n",
    "options(repr.plot.width=4, repr.plot.height=4)"
   ]
  },
  {
   "cell_type": "code",
   "execution_count": 38,
   "metadata": {},
   "outputs": [
    {
     "data": {
      "text/html": [
       "SRS015133.169611-T1-C"
      ],
      "text/latex": [
       "SRS015133.169611-T1-C"
      ],
      "text/markdown": [
       "SRS015133.169611-T1-C"
      ],
      "text/plain": [
       "[1] SRS015133.169611-T1-C\n",
       "14618 Levels: 10_GL0004713_1_1166_+ 10_GL0008230_1_525_+ ... V9H2T0|CSBG_00640 V-type H(+)-translocating pyrophosphatase [Clostridium sp. 7_2_43FAA]"
      ]
     },
     "metadata": {},
     "output_type": "display_data"
    }
   ],
   "source": [
    "resOrdered <- res[order(res$padj),]\n",
    "resOrdered[1,]$name"
   ]
  },
  {
   "cell_type": "code",
   "execution_count": 44,
   "metadata": {},
   "outputs": [
    {
     "data": {},
     "metadata": {},
     "output_type": "display_data"
    },
    {
     "data": {
      "image/png": "[encoded data removed]",
      "text/plain": [
       "plot without title"
      ]
     },
     "metadata": {},
     "output_type": "display_data"
    }
   ],
   "source": [
    "d <- plotCounts(dds, gene=rownames(resOrdered)[1], intgroup=\"sample_type\", returnData=TRUE)\n",
    "ggplot(d, aes(x=sample_type, y=count)) + \n",
    "geom_point(position=position_jitter(w=0.1,h=0)) + \n",
    "ggtitle(resOrdered[1,]$name) + \n",
    "  scale_y_log10()"
   ]
  },
  {
   "cell_type": "code",
   "execution_count": 45,
   "metadata": {},
   "outputs": [
    {
     "data": {},
     "metadata": {},
     "output_type": "display_data"
    },
    {
     "data": {
      "image/png": "[encoded data removed]",
      "text/plain": [
       "plot without title"
      ]
     },
     "metadata": {},
     "output_type": "display_data"
    }
   ],
   "source": [
    "d <- plotCounts(dds, gene=rownames(resOrdered)[2], intgroup=\"sample_type\", returnData=TRUE)\n",
    "ggplot(d, aes(x=sample_type, y=count)) + \n",
    "geom_point(position=position_jitter(w=0.1,h=0)) + \n",
    "ggtitle(resOrdered[2,]$name) + \n",
    "  scale_y_log10()"
   ]
  },
  {
   "cell_type": "code",
   "execution_count": 49,
   "metadata": {},
   "outputs": [
    {
     "data": {},
     "metadata": {},
     "output_type": "display_data"
    },
    {
     "data": {
      "image/png": "[encoded data removed]",
      "text/plain": [
       "plot without title"
      ]
     },
     "metadata": {},
     "output_type": "display_data"
    }
   ],
   "source": [
    "idx = which(resOrdered$gn == \"S100A9\")\n",
    "d <- plotCounts(dds, gene=rownames(resOrdered)[idx], intgroup=\"sample_type\", returnData=TRUE)\n",
    "ggplot(d, aes(x=sample_type, y=count)) + \n",
    "geom_point(position=position_jitter(w=0.1,h=0)) + \n",
    "ggtitle(resOrdered[idx,]$name) + \n",
    "  scale_y_log10()"
   ]
  },
  {
   "cell_type": "code",
   "execution_count": 50,
   "metadata": {},
   "outputs": [
    {
     "data": {},
     "metadata": {},
     "output_type": "display_data"
    },
    {
     "data": {
      "image/png": "[encoded data removed]",
      "text/plain": [
       "plot without title"
      ]
     },
     "metadata": {},
     "output_type": "display_data"
    }
   ],
   "source": [
    "idx = which(resOrdered$gn == \"S100A8\")\n",
    "d <- plotCounts(dds, gene=rownames(resOrdered)[idx], intgroup=\"sample_type\", returnData=TRUE)\n",
    "ggplot(d, aes(x=sample_type, y=count)) + \n",
    "geom_point(position=position_jitter(w=0.1,h=0)) + \n",
    "ggtitle(resOrdered[idx,]$name) + \n",
    "  scale_y_log10()"
   ]
  },
  {
   "cell_type": "code",
   "execution_count": 51,
   "metadata": {},
   "outputs": [
    {
     "data": {},
     "metadata": {},
     "output_type": "display_data"
    },
    {
     "data": {
      "image/png": "[encoded data removed]",
      "text/plain": [
       "plot without title"
      ]
     },
     "metadata": {},
     "output_type": "display_data"
    }
   ],
   "source": [
    "idx = which(resOrdered$gn == \"SERPINB1\")\n",
    "d <- plotCounts(dds, gene=rownames(resOrdered)[idx], intgroup=\"sample_type\", returnData=TRUE)\n",
    "ggplot(d, aes(x=sample_type, y=count)) + \n",
    "geom_point(position=position_jitter(w=0.1,h=0)) + \n",
    "ggtitle(resOrdered[idx,]$name) + \n",
    "  scale_y_log10()"
   ]
  },
  {
   "cell_type": "code",
   "execution_count": 61,
   "metadata": {},
   "outputs": [
    {
     "name": "stderr",
     "output_type": "stream",
     "text": [
      "Warning message:\n",
      "“Removed 14 rows containing missing values (geom_point).”"
     ]
    },
    {
     "data": {},
     "metadata": {},
     "output_type": "display_data"
    },
    {
     "data": {
      "image/png": "[encoded data removed]",
      "text/plain": [
       "plot without title"
      ]
     },
     "metadata": {},
     "output_type": "display_data"
    }
   ],
   "source": [
    "idx = which(resOrdered$gn == \"Mpo\")\n",
    "d <- plotCounts(dds, gene=rownames(resOrdered)[idx], intgroup=\"sample_type\", returnData=TRUE)\n",
    "ggplot(d, aes(x=sample_type, y=count)) + \n",
    "geom_point(position=position_jitter(w=0.1,h=0)) + \n",
    "ggtitle(resOrdered[idx,]$name) + \n",
    "  scale_y_log10(limits=c(1,100))"
   ]
  }
 ],
 "metadata": {
  "kernelspec": {
   "display_name": "R",
   "language": "R",
   "name": "ir"
  },
  "language_info": {
   "codemirror_mode": "r",
   "file_extension": ".r",
   "mimetype": "text/x-r-source",
   "name": "R",
   "pygments_lexer": "r",
   "version": "3.4.4"
  }
 },
 "nbformat": 4,
 "nbformat_minor": 2
}
