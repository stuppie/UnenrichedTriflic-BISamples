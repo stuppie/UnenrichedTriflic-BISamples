{
 "cells": [
  {
   "cell_type": "code",
   "execution_count": 1,
   "metadata": {},
   "outputs": [
    {
     "name": "stderr",
     "output_type": "stream",
     "text": [
      "Loading required package: Biobase\n",
      "Loading required package: BiocGenerics\n",
      "Loading required package: parallel\n",
      "\n",
      "Attaching package: ‘BiocGenerics’\n",
      "\n",
      "The following objects are masked from ‘package:parallel’:\n",
      "\n",
      "    clusterApply, clusterApplyLB, clusterCall, clusterEvalQ,\n",
      "    clusterExport, clusterMap, parApply, parCapply, parLapply,\n",
      "    parLapplyLB, parRapply, parSapply, parSapplyLB\n",
      "\n",
      "The following objects are masked from ‘package:stats’:\n",
      "\n",
      "    IQR, mad, sd, var, xtabs\n",
      "\n",
      "The following objects are masked from ‘package:base’:\n",
      "\n",
      "    anyDuplicated, append, as.data.frame, cbind, colMeans, colnames,\n",
      "    colSums, do.call, duplicated, eval, evalq, Filter, Find, get, grep,\n",
      "    grepl, intersect, is.unsorted, lapply, lengths, Map, mapply, match,\n",
      "    mget, order, paste, pmax, pmax.int, pmin, pmin.int, Position, rank,\n",
      "    rbind, Reduce, rowMeans, rownames, rowSums, sapply, setdiff, sort,\n",
      "    table, tapply, union, unique, unsplit, which, which.max, which.min\n",
      "\n",
      "Welcome to Bioconductor\n",
      "\n",
      "    Vignettes contain introductory material; view with\n",
      "    'browseVignettes()'. To cite Bioconductor, see\n",
      "    'citation(\"Biobase\")', and for packages 'citation(\"pkgname\")'.\n",
      "\n",
      "Loading required package: lattice\n",
      "Loading required package: annotate\n",
      "Loading required package: AnnotationDbi\n",
      "Loading required package: stats4\n",
      "Loading required package: IRanges\n",
      "Loading required package: S4Vectors\n",
      "\n",
      "Attaching package: ‘S4Vectors’\n",
      "\n",
      "The following object is masked from ‘package:base’:\n",
      "\n",
      "    expand.grid\n",
      "\n",
      "Loading required package: XML\n",
      "Loading required package: GenomicRanges\n",
      "Loading required package: GenomeInfoDb\n",
      "Loading required package: SummarizedExperiment\n",
      "Loading required package: DelayedArray\n",
      "Loading required package: matrixStats\n",
      "\n",
      "Attaching package: ‘matrixStats’\n",
      "\n",
      "The following objects are masked from ‘package:genefilter’:\n",
      "\n",
      "    rowSds, rowVars\n",
      "\n",
      "The following objects are masked from ‘package:Biobase’:\n",
      "\n",
      "    anyMissing, rowMedians\n",
      "\n",
      "\n",
      "Attaching package: ‘DelayedArray’\n",
      "\n",
      "The following objects are masked from ‘package:matrixStats’:\n",
      "\n",
      "    colMaxs, colMins, colRanges, rowMaxs, rowMins, rowRanges\n",
      "\n",
      "The following object is masked from ‘package:base’:\n",
      "\n",
      "    apply\n",
      "\n"
     ]
    },
    {
     "data": {
      "text/html": [
       "'/home/gstupp/projects/Wolan/triflic_BI/UnenrichedTriflic-BISamples'"
      ],
      "text/latex": [
       "'/home/gstupp/projects/Wolan/triflic\\_BI/UnenrichedTriflic-BISamples'"
      ],
      "text/markdown": [
       "'/home/gstupp/projects/Wolan/triflic_BI/UnenrichedTriflic-BISamples'"
      ],
      "text/plain": [
       "[1] \"/home/gstupp/projects/Wolan/triflic_BI/UnenrichedTriflic-BISamples\""
      ]
     },
     "metadata": {},
     "output_type": "display_data"
    }
   ],
   "source": [
    "library(\"geneplotter\")\n",
    "library(\"ggplot2\")\n",
    "library(\"vsn\")\n",
    "library(\"genefilter\")\n",
    "library(\"DESeq2\")\n",
    "getwd()"
   ]
  },
  {
   "cell_type": "code",
   "execution_count": 2,
   "metadata": {},
   "outputs": [
    {
     "data": {
      "text/html": [
       "<table>\n",
       "<thead><tr><th></th><th scope=col>sample_type</th><th scope=col>sample_name</th><th scope=col>path</th></tr></thead>\n",
       "<tbody>\n",
       "\t<tr><th scope=row>H1</th><td>healthy                                                                               </td><td>H1                                                                                    </td><td>/home/gstupp/projects/Wolan/triflic_BI/UnenrichedTriflic-BISamples/data/H1.txt        </td></tr>\n",
       "\t<tr><th scope=row>H2</th><td>healthy                                                                               </td><td>H2                                                                                    </td><td>/home/gstupp/projects/Wolan/triflic_BI/UnenrichedTriflic-BISamples/data/H2.txt        </td></tr>\n",
       "\t<tr><th scope=row>H3</th><td>healthy                                                                               </td><td>H3                                                                                    </td><td>/home/gstupp/projects/Wolan/triflic_BI/UnenrichedTriflic-BISamples/data/H3.txt        </td></tr>\n",
       "\t<tr><th scope=row>H4</th><td>healthy                                                                               </td><td>H4                                                                                    </td><td>/home/gstupp/projects/Wolan/triflic_BI/UnenrichedTriflic-BISamples/data/H4.txt        </td></tr>\n",
       "\t<tr><th scope=row>H5</th><td>healthy                                                                               </td><td>H5                                                                                    </td><td>/home/gstupp/projects/Wolan/triflic_BI/UnenrichedTriflic-BISamples/data/H5.txt        </td></tr>\n",
       "\t<tr><th scope=row>H6</th><td>healthy                                                                               </td><td>H6                                                                                    </td><td>/home/gstupp/projects/Wolan/triflic_BI/UnenrichedTriflic-BISamples/data/H6.txt        </td></tr>\n",
       "\t<tr><th scope=row>H7</th><td>healthy                                                                               </td><td>H7                                                                                    </td><td>/home/gstupp/projects/Wolan/triflic_BI/UnenrichedTriflic-BISamples/data/H7.txt        </td></tr>\n",
       "\t<tr><th scope=row>H8</th><td>healthy                                                                               </td><td>H8                                                                                    </td><td>/home/gstupp/projects/Wolan/triflic_BI/UnenrichedTriflic-BISamples/data/H8.txt        </td></tr>\n",
       "\t<tr><th scope=row>UC1</th><td>uc                                                                                    </td><td>UC1                                                                                   </td><td>/home/gstupp/projects/Wolan/triflic_BI/UnenrichedTriflic-BISamples/data/UC1.txt       </td></tr>\n",
       "\t<tr><th scope=row>UC2</th><td>uc                                                                                    </td><td>UC2                                                                                   </td><td>/home/gstupp/projects/Wolan/triflic_BI/UnenrichedTriflic-BISamples/data/UC2.txt       </td></tr>\n",
       "\t<tr><th scope=row>UC4</th><td>uc                                                                                    </td><td>UC4                                                                                   </td><td>/home/gstupp/projects/Wolan/triflic_BI/UnenrichedTriflic-BISamples/data/UC4.txt       </td></tr>\n",
       "\t<tr><th scope=row>UC5</th><td>uc                                                                                    </td><td>UC5                                                                                   </td><td>/home/gstupp/projects/Wolan/triflic_BI/UnenrichedTriflic-BISamples/data/UC5.txt       </td></tr>\n",
       "\t<tr><th scope=row>UC6</th><td>uc                                                                                    </td><td>UC6                                                                                   </td><td>/home/gstupp/projects/Wolan/triflic_BI/UnenrichedTriflic-BISamples/data/UC6.txt       </td></tr>\n",
       "\t<tr><th scope=row>UC8</th><td>uc                                                                                    </td><td>UC8                                                                                   </td><td>/home/gstupp/projects/Wolan/triflic_BI/UnenrichedTriflic-BISamples/data/UC8.txt       </td></tr>\n",
       "\t<tr><th scope=row>UC9</th><td>uc                                                                                    </td><td>UC9                                                                                   </td><td>/home/gstupp/projects/Wolan/triflic_BI/UnenrichedTriflic-BISamples/data/UC9.txt       </td></tr>\n",
       "\t<tr><th scope=row>UC11</th><td>uc                                                                                    </td><td>UC11                                                                                  </td><td>/home/gstupp/projects/Wolan/triflic_BI/UnenrichedTriflic-BISamples/data/UC11.txt      </td></tr>\n",
       "\t<tr><th scope=row>UC15</th><td>uc                                                                                    </td><td>UC15                                                                                  </td><td>/home/gstupp/projects/Wolan/triflic_BI/UnenrichedTriflic-BISamples/data/UC15.txt      </td></tr>\n",
       "\t<tr><th scope=row>UC23</th><td>uc                                                                                    </td><td>UC23                                                                                  </td><td>/home/gstupp/projects/Wolan/triflic_BI/UnenrichedTriflic-BISamples/data/UC23-flare.txt</td></tr>\n",
       "</tbody>\n",
       "</table>\n"
      ],
      "text/latex": [
       "\\begin{tabular}{r|lll}\n",
       "  & sample\\_type & sample\\_name & path\\\\\n",
       "\\hline\n",
       "\tH1 & healthy                                                                                  & H1                                                                                       & /home/gstupp/projects/Wolan/triflic\\_BI/UnenrichedTriflic-BISamples/data/H1.txt        \\\\\n",
       "\tH2 & healthy                                                                                  & H2                                                                                       & /home/gstupp/projects/Wolan/triflic\\_BI/UnenrichedTriflic-BISamples/data/H2.txt        \\\\\n",
       "\tH3 & healthy                                                                                  & H3                                                                                       & /home/gstupp/projects/Wolan/triflic\\_BI/UnenrichedTriflic-BISamples/data/H3.txt        \\\\\n",
       "\tH4 & healthy                                                                                  & H4                                                                                       & /home/gstupp/projects/Wolan/triflic\\_BI/UnenrichedTriflic-BISamples/data/H4.txt        \\\\\n",
       "\tH5 & healthy                                                                                  & H5                                                                                       & /home/gstupp/projects/Wolan/triflic\\_BI/UnenrichedTriflic-BISamples/data/H5.txt        \\\\\n",
       "\tH6 & healthy                                                                                  & H6                                                                                       & /home/gstupp/projects/Wolan/triflic\\_BI/UnenrichedTriflic-BISamples/data/H6.txt        \\\\\n",
       "\tH7 & healthy                                                                                  & H7                                                                                       & /home/gstupp/projects/Wolan/triflic\\_BI/UnenrichedTriflic-BISamples/data/H7.txt        \\\\\n",
       "\tH8 & healthy                                                                                  & H8                                                                                       & /home/gstupp/projects/Wolan/triflic\\_BI/UnenrichedTriflic-BISamples/data/H8.txt        \\\\\n",
       "\tUC1 & uc                                                                                       & UC1                                                                                      & /home/gstupp/projects/Wolan/triflic\\_BI/UnenrichedTriflic-BISamples/data/UC1.txt       \\\\\n",
       "\tUC2 & uc                                                                                       & UC2                                                                                      & /home/gstupp/projects/Wolan/triflic\\_BI/UnenrichedTriflic-BISamples/data/UC2.txt       \\\\\n",
       "\tUC4 & uc                                                                                       & UC4                                                                                      & /home/gstupp/projects/Wolan/triflic\\_BI/UnenrichedTriflic-BISamples/data/UC4.txt       \\\\\n",
       "\tUC5 & uc                                                                                       & UC5                                                                                      & /home/gstupp/projects/Wolan/triflic\\_BI/UnenrichedTriflic-BISamples/data/UC5.txt       \\\\\n",
       "\tUC6 & uc                                                                                       & UC6                                                                                      & /home/gstupp/projects/Wolan/triflic\\_BI/UnenrichedTriflic-BISamples/data/UC6.txt       \\\\\n",
       "\tUC8 & uc                                                                                       & UC8                                                                                      & /home/gstupp/projects/Wolan/triflic\\_BI/UnenrichedTriflic-BISamples/data/UC8.txt       \\\\\n",
       "\tUC9 & uc                                                                                       & UC9                                                                                      & /home/gstupp/projects/Wolan/triflic\\_BI/UnenrichedTriflic-BISamples/data/UC9.txt       \\\\\n",
       "\tUC11 & uc                                                                                       & UC11                                                                                     & /home/gstupp/projects/Wolan/triflic\\_BI/UnenrichedTriflic-BISamples/data/UC11.txt      \\\\\n",
       "\tUC15 & uc                                                                                       & UC15                                                                                     & /home/gstupp/projects/Wolan/triflic\\_BI/UnenrichedTriflic-BISamples/data/UC15.txt      \\\\\n",
       "\tUC23 & uc                                                                                       & UC23                                                                                     & /home/gstupp/projects/Wolan/triflic\\_BI/UnenrichedTriflic-BISamples/data/UC23-flare.txt\\\\\n",
       "\\end{tabular}\n"
      ],
      "text/markdown": [
       "\n",
       "| <!--/--> | sample_type | sample_name | path | \n",
       "|---|---|---|---|---|---|---|---|---|---|---|---|---|---|---|---|---|---|\n",
       "| H1 | healthy                                                                                | H1                                                                                     | /home/gstupp/projects/Wolan/triflic_BI/UnenrichedTriflic-BISamples/data/H1.txt         | \n",
       "| H2 | healthy                                                                                | H2                                                                                     | /home/gstupp/projects/Wolan/triflic_BI/UnenrichedTriflic-BISamples/data/H2.txt         | \n",
       "| H3 | healthy                                                                                | H3                                                                                     | /home/gstupp/projects/Wolan/triflic_BI/UnenrichedTriflic-BISamples/data/H3.txt         | \n",
       "| H4 | healthy                                                                                | H4                                                                                     | /home/gstupp/projects/Wolan/triflic_BI/UnenrichedTriflic-BISamples/data/H4.txt         | \n",
       "| H5 | healthy                                                                                | H5                                                                                     | /home/gstupp/projects/Wolan/triflic_BI/UnenrichedTriflic-BISamples/data/H5.txt         | \n",
       "| H6 | healthy                                                                                | H6                                                                                     | /home/gstupp/projects/Wolan/triflic_BI/UnenrichedTriflic-BISamples/data/H6.txt         | \n",
       "| H7 | healthy                                                                                | H7                                                                                     | /home/gstupp/projects/Wolan/triflic_BI/UnenrichedTriflic-BISamples/data/H7.txt         | \n",
       "| H8 | healthy                                                                                | H8                                                                                     | /home/gstupp/projects/Wolan/triflic_BI/UnenrichedTriflic-BISamples/data/H8.txt         | \n",
       "| UC1 | uc                                                                                     | UC1                                                                                    | /home/gstupp/projects/Wolan/triflic_BI/UnenrichedTriflic-BISamples/data/UC1.txt        | \n",
       "| UC2 | uc                                                                                     | UC2                                                                                    | /home/gstupp/projects/Wolan/triflic_BI/UnenrichedTriflic-BISamples/data/UC2.txt        | \n",
       "| UC4 | uc                                                                                     | UC4                                                                                    | /home/gstupp/projects/Wolan/triflic_BI/UnenrichedTriflic-BISamples/data/UC4.txt        | \n",
       "| UC5 | uc                                                                                     | UC5                                                                                    | /home/gstupp/projects/Wolan/triflic_BI/UnenrichedTriflic-BISamples/data/UC5.txt        | \n",
       "| UC6 | uc                                                                                     | UC6                                                                                    | /home/gstupp/projects/Wolan/triflic_BI/UnenrichedTriflic-BISamples/data/UC6.txt        | \n",
       "| UC8 | uc                                                                                     | UC8                                                                                    | /home/gstupp/projects/Wolan/triflic_BI/UnenrichedTriflic-BISamples/data/UC8.txt        | \n",
       "| UC9 | uc                                                                                     | UC9                                                                                    | /home/gstupp/projects/Wolan/triflic_BI/UnenrichedTriflic-BISamples/data/UC9.txt        | \n",
       "| UC11 | uc                                                                                     | UC11                                                                                   | /home/gstupp/projects/Wolan/triflic_BI/UnenrichedTriflic-BISamples/data/UC11.txt       | \n",
       "| UC15 | uc                                                                                     | UC15                                                                                   | /home/gstupp/projects/Wolan/triflic_BI/UnenrichedTriflic-BISamples/data/UC15.txt       | \n",
       "| UC23 | uc                                                                                     | UC23                                                                                   | /home/gstupp/projects/Wolan/triflic_BI/UnenrichedTriflic-BISamples/data/UC23-flare.txt | \n",
       "\n",
       "\n"
      ],
      "text/plain": [
       "     sample_type sample_name\n",
       "H1   healthy     H1         \n",
       "H2   healthy     H2         \n",
       "H3   healthy     H3         \n",
       "H4   healthy     H4         \n",
       "H5   healthy     H5         \n",
       "H6   healthy     H6         \n",
       "H7   healthy     H7         \n",
       "H8   healthy     H8         \n",
       "UC1  uc          UC1        \n",
       "UC2  uc          UC2        \n",
       "UC4  uc          UC4        \n",
       "UC5  uc          UC5        \n",
       "UC6  uc          UC6        \n",
       "UC8  uc          UC8        \n",
       "UC9  uc          UC9        \n",
       "UC11 uc          UC11       \n",
       "UC15 uc          UC15       \n",
       "UC23 uc          UC23       \n",
       "     path                                                                                  \n",
       "H1   /home/gstupp/projects/Wolan/triflic_BI/UnenrichedTriflic-BISamples/data/H1.txt        \n",
       "H2   /home/gstupp/projects/Wolan/triflic_BI/UnenrichedTriflic-BISamples/data/H2.txt        \n",
       "H3   /home/gstupp/projects/Wolan/triflic_BI/UnenrichedTriflic-BISamples/data/H3.txt        \n",
       "H4   /home/gstupp/projects/Wolan/triflic_BI/UnenrichedTriflic-BISamples/data/H4.txt        \n",
       "H5   /home/gstupp/projects/Wolan/triflic_BI/UnenrichedTriflic-BISamples/data/H5.txt        \n",
       "H6   /home/gstupp/projects/Wolan/triflic_BI/UnenrichedTriflic-BISamples/data/H6.txt        \n",
       "H7   /home/gstupp/projects/Wolan/triflic_BI/UnenrichedTriflic-BISamples/data/H7.txt        \n",
       "H8   /home/gstupp/projects/Wolan/triflic_BI/UnenrichedTriflic-BISamples/data/H8.txt        \n",
       "UC1  /home/gstupp/projects/Wolan/triflic_BI/UnenrichedTriflic-BISamples/data/UC1.txt       \n",
       "UC2  /home/gstupp/projects/Wolan/triflic_BI/UnenrichedTriflic-BISamples/data/UC2.txt       \n",
       "UC4  /home/gstupp/projects/Wolan/triflic_BI/UnenrichedTriflic-BISamples/data/UC4.txt       \n",
       "UC5  /home/gstupp/projects/Wolan/triflic_BI/UnenrichedTriflic-BISamples/data/UC5.txt       \n",
       "UC6  /home/gstupp/projects/Wolan/triflic_BI/UnenrichedTriflic-BISamples/data/UC6.txt       \n",
       "UC8  /home/gstupp/projects/Wolan/triflic_BI/UnenrichedTriflic-BISamples/data/UC8.txt       \n",
       "UC9  /home/gstupp/projects/Wolan/triflic_BI/UnenrichedTriflic-BISamples/data/UC9.txt       \n",
       "UC11 /home/gstupp/projects/Wolan/triflic_BI/UnenrichedTriflic-BISamples/data/UC11.txt      \n",
       "UC15 /home/gstupp/projects/Wolan/triflic_BI/UnenrichedTriflic-BISamples/data/UC15.txt      \n",
       "UC23 /home/gstupp/projects/Wolan/triflic_BI/UnenrichedTriflic-BISamples/data/UC23-flare.txt"
      ]
     },
     "metadata": {},
     "output_type": "display_data"
    }
   ],
   "source": [
    "meta_path = \"metadata.csv\"\n",
    "sampleTable = read.csv(meta_path, row.names = 1)\n",
    "sampleTable$sample_type=factor(sampleTable$sample_type)\n",
    "sampleTable$sample_type <- relevel(sampleTable$sample_type, ref=\"healthy\")\n",
    "sampleTable"
   ]
  },
  {
   "cell_type": "code",
   "execution_count": 3,
   "metadata": {},
   "outputs": [],
   "source": [
    "countData = read.csv(\"out/df_filt.csv\", row.names = 1)\n",
    "locusTable = read.csv(\"out/locus_df.csv\", row.names = 1)\n",
    "sampleTable = sampleTable[colnames(countData),]"
   ]
  },
  {
   "cell_type": "code",
   "execution_count": 4,
   "metadata": {},
   "outputs": [
    {
     "name": "stderr",
     "output_type": "stream",
     "text": [
      "estimating size factors\n",
      "estimating dispersions\n",
      "gene-wise dispersion estimates\n",
      "mean-dispersion relationship\n",
      "final dispersion estimates\n",
      "fitting model and testing\n",
      "-- replacing outliers and refitting for 1375 genes\n",
      "-- DESeq argument 'minReplicatesForReplace' = 7 \n",
      "-- original counts are preserved in counts(dds)\n",
      "estimating dispersions\n",
      "fitting model and testing\n"
     ]
    }
   ],
   "source": [
    "dds = DESeqDataSetFromMatrix(countData, colData = sampleTable, ~ sample_type)\n",
    "dds = DESeq(dds)"
   ]
  },
  {
   "cell_type": "code",
   "execution_count": 5,
   "metadata": {},
   "outputs": [
    {
     "data": {
      "text/html": [
       "<table>\n",
       "<thead><tr><th></th><th scope=col>H1</th><th scope=col>H2</th><th scope=col>H3</th><th scope=col>H4</th><th scope=col>H5</th><th scope=col>H6</th><th scope=col>H7</th><th scope=col>H8</th><th scope=col>UC1</th><th scope=col>UC11</th><th scope=col>UC15</th><th scope=col>UC2</th><th scope=col>UC23</th><th scope=col>UC4</th><th scope=col>UC5</th><th scope=col>UC6</th><th scope=col>UC8</th><th scope=col>UC9</th></tr></thead>\n",
       "<tbody>\n",
       "\t<tr><th scope=row>202956</th><td>13</td><td> 5</td><td>10</td><td>7 </td><td>4 </td><td> 6</td><td> 8</td><td> 2</td><td>13</td><td> 0</td><td> 7</td><td> 8</td><td> 6</td><td>12</td><td> 3</td><td>0 </td><td> 2</td><td> 8</td></tr>\n",
       "\t<tr><th scope=row>209005</th><td>25</td><td>31</td><td>27</td><td>0 </td><td>8 </td><td>24</td><td>10</td><td>46</td><td>35</td><td>13</td><td>23</td><td>50</td><td>12</td><td>14</td><td>31</td><td>0 </td><td>17</td><td>25</td></tr>\n",
       "\t<tr><th scope=row>217964</th><td> 6</td><td> 3</td><td> 2</td><td>6 </td><td>0 </td><td> 6</td><td> 4</td><td> 4</td><td> 0</td><td> 0</td><td> 0</td><td> 3</td><td> 1</td><td> 2</td><td> 0</td><td>0 </td><td> 1</td><td> 2</td></tr>\n",
       "\t<tr><th scope=row>248190</th><td> 3</td><td> 2</td><td> 1</td><td>0 </td><td>0 </td><td> 0</td><td> 2</td><td> 6</td><td> 3</td><td> 3</td><td> 2</td><td>11</td><td> 0</td><td> 0</td><td> 7</td><td>0 </td><td> 0</td><td> 0</td></tr>\n",
       "\t<tr><th scope=row>302579</th><td> 4</td><td> 0</td><td> 0</td><td>0 </td><td>0 </td><td> 0</td><td> 0</td><td> 0</td><td> 0</td><td>12</td><td> 0</td><td> 0</td><td> 0</td><td> 0</td><td> 0</td><td>0 </td><td> 0</td><td> 0</td></tr>\n",
       "\t<tr><th scope=row>318873</th><td> 3</td><td>17</td><td> 2</td><td>6 </td><td>0 </td><td>17</td><td> 1</td><td> 0</td><td> 0</td><td> 0</td><td> 7</td><td> 6</td><td> 0</td><td> 3</td><td> 0</td><td>0 </td><td> 0</td><td> 0</td></tr>\n",
       "</tbody>\n",
       "</table>\n"
      ],
      "text/latex": [
       "\\begin{tabular}{r|llllllllllllllllll}\n",
       "  & H1 & H2 & H3 & H4 & H5 & H6 & H7 & H8 & UC1 & UC11 & UC15 & UC2 & UC23 & UC4 & UC5 & UC6 & UC8 & UC9\\\\\n",
       "\\hline\n",
       "\t202956 & 13 &  5 & 10 & 7  & 4  &  6 &  8 &  2 & 13 &  0 &  7 &  8 &  6 & 12 &  3 & 0  &  2 &  8\\\\\n",
       "\t209005 & 25 & 31 & 27 & 0  & 8  & 24 & 10 & 46 & 35 & 13 & 23 & 50 & 12 & 14 & 31 & 0  & 17 & 25\\\\\n",
       "\t217964 &  6 &  3 &  2 & 6  & 0  &  6 &  4 &  4 &  0 &  0 &  0 &  3 &  1 &  2 &  0 & 0  &  1 &  2\\\\\n",
       "\t248190 &  3 &  2 &  1 & 0  & 0  &  0 &  2 &  6 &  3 &  3 &  2 & 11 &  0 &  0 &  7 & 0  &  0 &  0\\\\\n",
       "\t302579 &  4 &  0 &  0 & 0  & 0  &  0 &  0 &  0 &  0 & 12 &  0 &  0 &  0 &  0 &  0 & 0  &  0 &  0\\\\\n",
       "\t318873 &  3 & 17 &  2 & 6  & 0  & 17 &  1 &  0 &  0 &  0 &  7 &  6 &  0 &  3 &  0 & 0  &  0 &  0\\\\\n",
       "\\end{tabular}\n"
      ],
      "text/markdown": [
       "\n",
       "| <!--/--> | H1 | H2 | H3 | H4 | H5 | H6 | H7 | H8 | UC1 | UC11 | UC15 | UC2 | UC23 | UC4 | UC5 | UC6 | UC8 | UC9 | \n",
       "|---|---|---|---|---|---|\n",
       "| 202956 | 13 |  5 | 10 | 7  | 4  |  6 |  8 |  2 | 13 |  0 |  7 |  8 |  6 | 12 |  3 | 0  |  2 |  8 | \n",
       "| 209005 | 25 | 31 | 27 | 0  | 8  | 24 | 10 | 46 | 35 | 13 | 23 | 50 | 12 | 14 | 31 | 0  | 17 | 25 | \n",
       "| 217964 |  6 |  3 |  2 | 6  | 0  |  6 |  4 |  4 |  0 |  0 |  0 |  3 |  1 |  2 |  0 | 0  |  1 |  2 | \n",
       "| 248190 |  3 |  2 |  1 | 0  | 0  |  0 |  2 |  6 |  3 |  3 |  2 | 11 |  0 |  0 |  7 | 0  |  0 |  0 | \n",
       "| 302579 |  4 |  0 |  0 | 0  | 0  |  0 |  0 |  0 |  0 | 12 |  0 |  0 |  0 |  0 |  0 | 0  |  0 |  0 | \n",
       "| 318873 |  3 | 17 |  2 | 6  | 0  | 17 |  1 |  0 |  0 |  0 |  7 |  6 |  0 |  3 |  0 | 0  |  0 |  0 | \n",
       "\n",
       "\n"
      ],
      "text/plain": [
       "       H1 H2 H3 H4 H5 H6 H7 H8 UC1 UC11 UC15 UC2 UC23 UC4 UC5 UC6 UC8 UC9\n",
       "202956 13  5 10 7  4   6  8  2 13   0    7    8   6   12   3  0    2   8 \n",
       "209005 25 31 27 0  8  24 10 46 35  13   23   50  12   14  31  0   17  25 \n",
       "217964  6  3  2 6  0   6  4  4  0   0    0    3   1    2   0  0    1   2 \n",
       "248190  3  2  1 0  0   0  2  6  3   3    2   11   0    0   7  0    0   0 \n",
       "302579  4  0  0 0  0   0  0  0  0  12    0    0   0    0   0  0    0   0 \n",
       "318873  3 17  2 6  0  17  1  0  0   0    7    6   0    3   0  0    0   0 "
      ]
     },
     "metadata": {},
     "output_type": "display_data"
    }
   ],
   "source": [
    "head(counts(dds))"
   ]
  },
  {
   "cell_type": "code",
   "execution_count": 26,
   "metadata": {},
   "outputs": [
    {
     "data": {
      "text/html": [
       "<ol class=list-inline>\n",
       "\t<li>14618</li>\n",
       "\t<li>18</li>\n",
       "</ol>\n"
      ],
      "text/latex": [
       "\\begin{enumerate*}\n",
       "\\item 14618\n",
       "\\item 18\n",
       "\\end{enumerate*}\n"
      ],
      "text/markdown": [
       "1. 14618\n",
       "2. 18\n",
       "\n",
       "\n"
      ],
      "text/plain": [
       "[1] 14618    18"
      ]
     },
     "metadata": {},
     "output_type": "display_data"
    }
   ],
   "source": [
    "dim(counts(dds))"
   ]
  },
  {
   "cell_type": "code",
   "execution_count": 6,
   "metadata": {},
   "outputs": [
    {
     "data": {
      "text/html": [
       "<table>\n",
       "<thead><tr><th></th><th scope=col>sample_type</th><th scope=col>sample_name</th><th scope=col>path</th></tr></thead>\n",
       "<tbody>\n",
       "\t<tr><th scope=row>H1</th><td>healthy                                                                               </td><td>H1                                                                                    </td><td>/home/gstupp/projects/Wolan/triflic_BI/UnenrichedTriflic-BISamples/data/H1.txt        </td></tr>\n",
       "\t<tr><th scope=row>H2</th><td>healthy                                                                               </td><td>H2                                                                                    </td><td>/home/gstupp/projects/Wolan/triflic_BI/UnenrichedTriflic-BISamples/data/H2.txt        </td></tr>\n",
       "\t<tr><th scope=row>H3</th><td>healthy                                                                               </td><td>H3                                                                                    </td><td>/home/gstupp/projects/Wolan/triflic_BI/UnenrichedTriflic-BISamples/data/H3.txt        </td></tr>\n",
       "\t<tr><th scope=row>H4</th><td>healthy                                                                               </td><td>H4                                                                                    </td><td>/home/gstupp/projects/Wolan/triflic_BI/UnenrichedTriflic-BISamples/data/H4.txt        </td></tr>\n",
       "\t<tr><th scope=row>H5</th><td>healthy                                                                               </td><td>H5                                                                                    </td><td>/home/gstupp/projects/Wolan/triflic_BI/UnenrichedTriflic-BISamples/data/H5.txt        </td></tr>\n",
       "\t<tr><th scope=row>H6</th><td>healthy                                                                               </td><td>H6                                                                                    </td><td>/home/gstupp/projects/Wolan/triflic_BI/UnenrichedTriflic-BISamples/data/H6.txt        </td></tr>\n",
       "\t<tr><th scope=row>H7</th><td>healthy                                                                               </td><td>H7                                                                                    </td><td>/home/gstupp/projects/Wolan/triflic_BI/UnenrichedTriflic-BISamples/data/H7.txt        </td></tr>\n",
       "\t<tr><th scope=row>H8</th><td>healthy                                                                               </td><td>H8                                                                                    </td><td>/home/gstupp/projects/Wolan/triflic_BI/UnenrichedTriflic-BISamples/data/H8.txt        </td></tr>\n",
       "\t<tr><th scope=row>UC1</th><td>uc                                                                                    </td><td>UC1                                                                                   </td><td>/home/gstupp/projects/Wolan/triflic_BI/UnenrichedTriflic-BISamples/data/UC1.txt       </td></tr>\n",
       "\t<tr><th scope=row>UC11</th><td>uc                                                                                    </td><td>UC11                                                                                  </td><td>/home/gstupp/projects/Wolan/triflic_BI/UnenrichedTriflic-BISamples/data/UC11.txt      </td></tr>\n",
       "\t<tr><th scope=row>UC15</th><td>uc                                                                                    </td><td>UC15                                                                                  </td><td>/home/gstupp/projects/Wolan/triflic_BI/UnenrichedTriflic-BISamples/data/UC15.txt      </td></tr>\n",
       "\t<tr><th scope=row>UC2</th><td>uc                                                                                    </td><td>UC2                                                                                   </td><td>/home/gstupp/projects/Wolan/triflic_BI/UnenrichedTriflic-BISamples/data/UC2.txt       </td></tr>\n",
       "\t<tr><th scope=row>UC23</th><td>uc                                                                                    </td><td>UC23                                                                                  </td><td>/home/gstupp/projects/Wolan/triflic_BI/UnenrichedTriflic-BISamples/data/UC23-flare.txt</td></tr>\n",
       "\t<tr><th scope=row>UC4</th><td>uc                                                                                    </td><td>UC4                                                                                   </td><td>/home/gstupp/projects/Wolan/triflic_BI/UnenrichedTriflic-BISamples/data/UC4.txt       </td></tr>\n",
       "\t<tr><th scope=row>UC5</th><td>uc                                                                                    </td><td>UC5                                                                                   </td><td>/home/gstupp/projects/Wolan/triflic_BI/UnenrichedTriflic-BISamples/data/UC5.txt       </td></tr>\n",
       "\t<tr><th scope=row>UC6</th><td>uc                                                                                    </td><td>UC6                                                                                   </td><td>/home/gstupp/projects/Wolan/triflic_BI/UnenrichedTriflic-BISamples/data/UC6.txt       </td></tr>\n",
       "\t<tr><th scope=row>UC8</th><td>uc                                                                                    </td><td>UC8                                                                                   </td><td>/home/gstupp/projects/Wolan/triflic_BI/UnenrichedTriflic-BISamples/data/UC8.txt       </td></tr>\n",
       "\t<tr><th scope=row>UC9</th><td>uc                                                                                    </td><td>UC9                                                                                   </td><td>/home/gstupp/projects/Wolan/triflic_BI/UnenrichedTriflic-BISamples/data/UC9.txt       </td></tr>\n",
       "</tbody>\n",
       "</table>\n"
      ],
      "text/latex": [
       "\\begin{tabular}{r|lll}\n",
       "  & sample\\_type & sample\\_name & path\\\\\n",
       "\\hline\n",
       "\tH1 & healthy                                                                                  & H1                                                                                       & /home/gstupp/projects/Wolan/triflic\\_BI/UnenrichedTriflic-BISamples/data/H1.txt        \\\\\n",
       "\tH2 & healthy                                                                                  & H2                                                                                       & /home/gstupp/projects/Wolan/triflic\\_BI/UnenrichedTriflic-BISamples/data/H2.txt        \\\\\n",
       "\tH3 & healthy                                                                                  & H3                                                                                       & /home/gstupp/projects/Wolan/triflic\\_BI/UnenrichedTriflic-BISamples/data/H3.txt        \\\\\n",
       "\tH4 & healthy                                                                                  & H4                                                                                       & /home/gstupp/projects/Wolan/triflic\\_BI/UnenrichedTriflic-BISamples/data/H4.txt        \\\\\n",
       "\tH5 & healthy                                                                                  & H5                                                                                       & /home/gstupp/projects/Wolan/triflic\\_BI/UnenrichedTriflic-BISamples/data/H5.txt        \\\\\n",
       "\tH6 & healthy                                                                                  & H6                                                                                       & /home/gstupp/projects/Wolan/triflic\\_BI/UnenrichedTriflic-BISamples/data/H6.txt        \\\\\n",
       "\tH7 & healthy                                                                                  & H7                                                                                       & /home/gstupp/projects/Wolan/triflic\\_BI/UnenrichedTriflic-BISamples/data/H7.txt        \\\\\n",
       "\tH8 & healthy                                                                                  & H8                                                                                       & /home/gstupp/projects/Wolan/triflic\\_BI/UnenrichedTriflic-BISamples/data/H8.txt        \\\\\n",
       "\tUC1 & uc                                                                                       & UC1                                                                                      & /home/gstupp/projects/Wolan/triflic\\_BI/UnenrichedTriflic-BISamples/data/UC1.txt       \\\\\n",
       "\tUC11 & uc                                                                                       & UC11                                                                                     & /home/gstupp/projects/Wolan/triflic\\_BI/UnenrichedTriflic-BISamples/data/UC11.txt      \\\\\n",
       "\tUC15 & uc                                                                                       & UC15                                                                                     & /home/gstupp/projects/Wolan/triflic\\_BI/UnenrichedTriflic-BISamples/data/UC15.txt      \\\\\n",
       "\tUC2 & uc                                                                                       & UC2                                                                                      & /home/gstupp/projects/Wolan/triflic\\_BI/UnenrichedTriflic-BISamples/data/UC2.txt       \\\\\n",
       "\tUC23 & uc                                                                                       & UC23                                                                                     & /home/gstupp/projects/Wolan/triflic\\_BI/UnenrichedTriflic-BISamples/data/UC23-flare.txt\\\\\n",
       "\tUC4 & uc                                                                                       & UC4                                                                                      & /home/gstupp/projects/Wolan/triflic\\_BI/UnenrichedTriflic-BISamples/data/UC4.txt       \\\\\n",
       "\tUC5 & uc                                                                                       & UC5                                                                                      & /home/gstupp/projects/Wolan/triflic\\_BI/UnenrichedTriflic-BISamples/data/UC5.txt       \\\\\n",
       "\tUC6 & uc                                                                                       & UC6                                                                                      & /home/gstupp/projects/Wolan/triflic\\_BI/UnenrichedTriflic-BISamples/data/UC6.txt       \\\\\n",
       "\tUC8 & uc                                                                                       & UC8                                                                                      & /home/gstupp/projects/Wolan/triflic\\_BI/UnenrichedTriflic-BISamples/data/UC8.txt       \\\\\n",
       "\tUC9 & uc                                                                                       & UC9                                                                                      & /home/gstupp/projects/Wolan/triflic\\_BI/UnenrichedTriflic-BISamples/data/UC9.txt       \\\\\n",
       "\\end{tabular}\n"
      ],
      "text/markdown": [
       "\n",
       "| <!--/--> | sample_type | sample_name | path | \n",
       "|---|---|---|---|---|---|---|---|---|---|---|---|---|---|---|---|---|---|\n",
       "| H1 | healthy                                                                                | H1                                                                                     | /home/gstupp/projects/Wolan/triflic_BI/UnenrichedTriflic-BISamples/data/H1.txt         | \n",
       "| H2 | healthy                                                                                | H2                                                                                     | /home/gstupp/projects/Wolan/triflic_BI/UnenrichedTriflic-BISamples/data/H2.txt         | \n",
       "| H3 | healthy                                                                                | H3                                                                                     | /home/gstupp/projects/Wolan/triflic_BI/UnenrichedTriflic-BISamples/data/H3.txt         | \n",
       "| H4 | healthy                                                                                | H4                                                                                     | /home/gstupp/projects/Wolan/triflic_BI/UnenrichedTriflic-BISamples/data/H4.txt         | \n",
       "| H5 | healthy                                                                                | H5                                                                                     | /home/gstupp/projects/Wolan/triflic_BI/UnenrichedTriflic-BISamples/data/H5.txt         | \n",
       "| H6 | healthy                                                                                | H6                                                                                     | /home/gstupp/projects/Wolan/triflic_BI/UnenrichedTriflic-BISamples/data/H6.txt         | \n",
       "| H7 | healthy                                                                                | H7                                                                                     | /home/gstupp/projects/Wolan/triflic_BI/UnenrichedTriflic-BISamples/data/H7.txt         | \n",
       "| H8 | healthy                                                                                | H8                                                                                     | /home/gstupp/projects/Wolan/triflic_BI/UnenrichedTriflic-BISamples/data/H8.txt         | \n",
       "| UC1 | uc                                                                                     | UC1                                                                                    | /home/gstupp/projects/Wolan/triflic_BI/UnenrichedTriflic-BISamples/data/UC1.txt        | \n",
       "| UC11 | uc                                                                                     | UC11                                                                                   | /home/gstupp/projects/Wolan/triflic_BI/UnenrichedTriflic-BISamples/data/UC11.txt       | \n",
       "| UC15 | uc                                                                                     | UC15                                                                                   | /home/gstupp/projects/Wolan/triflic_BI/UnenrichedTriflic-BISamples/data/UC15.txt       | \n",
       "| UC2 | uc                                                                                     | UC2                                                                                    | /home/gstupp/projects/Wolan/triflic_BI/UnenrichedTriflic-BISamples/data/UC2.txt        | \n",
       "| UC23 | uc                                                                                     | UC23                                                                                   | /home/gstupp/projects/Wolan/triflic_BI/UnenrichedTriflic-BISamples/data/UC23-flare.txt | \n",
       "| UC4 | uc                                                                                     | UC4                                                                                    | /home/gstupp/projects/Wolan/triflic_BI/UnenrichedTriflic-BISamples/data/UC4.txt        | \n",
       "| UC5 | uc                                                                                     | UC5                                                                                    | /home/gstupp/projects/Wolan/triflic_BI/UnenrichedTriflic-BISamples/data/UC5.txt        | \n",
       "| UC6 | uc                                                                                     | UC6                                                                                    | /home/gstupp/projects/Wolan/triflic_BI/UnenrichedTriflic-BISamples/data/UC6.txt        | \n",
       "| UC8 | uc                                                                                     | UC8                                                                                    | /home/gstupp/projects/Wolan/triflic_BI/UnenrichedTriflic-BISamples/data/UC8.txt        | \n",
       "| UC9 | uc                                                                                     | UC9                                                                                    | /home/gstupp/projects/Wolan/triflic_BI/UnenrichedTriflic-BISamples/data/UC9.txt        | \n",
       "\n",
       "\n"
      ],
      "text/plain": [
       "     sample_type sample_name\n",
       "H1   healthy     H1         \n",
       "H2   healthy     H2         \n",
       "H3   healthy     H3         \n",
       "H4   healthy     H4         \n",
       "H5   healthy     H5         \n",
       "H6   healthy     H6         \n",
       "H7   healthy     H7         \n",
       "H8   healthy     H8         \n",
       "UC1  uc          UC1        \n",
       "UC11 uc          UC11       \n",
       "UC15 uc          UC15       \n",
       "UC2  uc          UC2        \n",
       "UC23 uc          UC23       \n",
       "UC4  uc          UC4        \n",
       "UC5  uc          UC5        \n",
       "UC6  uc          UC6        \n",
       "UC8  uc          UC8        \n",
       "UC9  uc          UC9        \n",
       "     path                                                                                  \n",
       "H1   /home/gstupp/projects/Wolan/triflic_BI/UnenrichedTriflic-BISamples/data/H1.txt        \n",
       "H2   /home/gstupp/projects/Wolan/triflic_BI/UnenrichedTriflic-BISamples/data/H2.txt        \n",
       "H3   /home/gstupp/projects/Wolan/triflic_BI/UnenrichedTriflic-BISamples/data/H3.txt        \n",
       "H4   /home/gstupp/projects/Wolan/triflic_BI/UnenrichedTriflic-BISamples/data/H4.txt        \n",
       "H5   /home/gstupp/projects/Wolan/triflic_BI/UnenrichedTriflic-BISamples/data/H5.txt        \n",
       "H6   /home/gstupp/projects/Wolan/triflic_BI/UnenrichedTriflic-BISamples/data/H6.txt        \n",
       "H7   /home/gstupp/projects/Wolan/triflic_BI/UnenrichedTriflic-BISamples/data/H7.txt        \n",
       "H8   /home/gstupp/projects/Wolan/triflic_BI/UnenrichedTriflic-BISamples/data/H8.txt        \n",
       "UC1  /home/gstupp/projects/Wolan/triflic_BI/UnenrichedTriflic-BISamples/data/UC1.txt       \n",
       "UC11 /home/gstupp/projects/Wolan/triflic_BI/UnenrichedTriflic-BISamples/data/UC11.txt      \n",
       "UC15 /home/gstupp/projects/Wolan/triflic_BI/UnenrichedTriflic-BISamples/data/UC15.txt      \n",
       "UC2  /home/gstupp/projects/Wolan/triflic_BI/UnenrichedTriflic-BISamples/data/UC2.txt       \n",
       "UC23 /home/gstupp/projects/Wolan/triflic_BI/UnenrichedTriflic-BISamples/data/UC23-flare.txt\n",
       "UC4  /home/gstupp/projects/Wolan/triflic_BI/UnenrichedTriflic-BISamples/data/UC4.txt       \n",
       "UC5  /home/gstupp/projects/Wolan/triflic_BI/UnenrichedTriflic-BISamples/data/UC5.txt       \n",
       "UC6  /home/gstupp/projects/Wolan/triflic_BI/UnenrichedTriflic-BISamples/data/UC6.txt       \n",
       "UC8  /home/gstupp/projects/Wolan/triflic_BI/UnenrichedTriflic-BISamples/data/UC8.txt       \n",
       "UC9  /home/gstupp/projects/Wolan/triflic_BI/UnenrichedTriflic-BISamples/data/UC9.txt       "
      ]
     },
     "metadata": {},
     "output_type": "display_data"
    }
   ],
   "source": [
    "sampleTable"
   ]
  },
  {
   "cell_type": "code",
   "execution_count": 7,
   "metadata": {},
   "outputs": [],
   "source": [
    "#mcols(dds)<-cbind(mcols(dds),locusTable)\n",
    "save(dds, file = \"out/dds\")"
   ]
  },
  {
   "cell_type": "code",
   "execution_count": 17,
   "metadata": {},
   "outputs": [
    {
     "name": "stdout",
     "output_type": "stream",
     "text": [
      "\n",
      "out of 14531 with nonzero total read count\n",
      "adjusted p-value < 0.1\n",
      "LFC > 0 (up)     : 7, 0.048% \n",
      "LFC < 0 (down)   : 11, 0.076% \n",
      "outliers [1]     : 0, 0% \n",
      "low counts [2]   : 9661, 66% \n",
      "(mean count < 5)\n",
      "[1] see 'cooksCutoff' argument of ?results\n",
      "[2] see 'independentFiltering' argument of ?results\n",
      "\n"
     ]
    }
   ],
   "source": [
    "res = results(dds, contrast=c(\"sample_type\", \"healthy\", \"uc\"))\n",
    "summary(res)"
   ]
  },
  {
   "cell_type": "code",
   "execution_count": 11,
   "metadata": {},
   "outputs": [],
   "source": [
    "?results"
   ]
  },
  {
   "cell_type": "code",
   "execution_count": 14,
   "metadata": {},
   "outputs": [],
   "source": [
    "res = cbind(res, locusTable)\n",
    "save(res, file = \"out/res_probe_unenriched\")"
   ]
  },
  {
   "cell_type": "code",
   "execution_count": 15,
   "metadata": {},
   "outputs": [],
   "source": [
    "resOrdered <- res[order(res$padj),]\n",
    "write.csv(as.data.frame(resOrdered),file=\"out/probe_unenriched_deseq_results.csv\")"
   ]
  },
  {
   "cell_type": "code",
   "execution_count": 22,
   "metadata": {},
   "outputs": [
    {
     "data": {
      "text/html": [
       "<ol class=list-inline>\n",
       "\t<li>'Intercept'</li>\n",
       "\t<li>'sample_type_uc_vs_healthy'</li>\n",
       "</ol>\n"
      ],
      "text/latex": [
       "\\begin{enumerate*}\n",
       "\\item 'Intercept'\n",
       "\\item 'sample\\_type\\_uc\\_vs\\_healthy'\n",
       "\\end{enumerate*}\n"
      ],
      "text/markdown": [
       "1. 'Intercept'\n",
       "2. 'sample_type_uc_vs_healthy'\n",
       "\n",
       "\n"
      ],
      "text/plain": [
       "[1] \"Intercept\"                 \"sample_type_uc_vs_healthy\""
      ]
     },
     "metadata": {},
     "output_type": "display_data"
    }
   ],
   "source": [
    "resultsNames(dds)"
   ]
  },
  {
   "cell_type": "code",
   "execution_count": 24,
   "metadata": {},
   "outputs": [],
   "source": [
    "resLFC <- lfcShrink(dds, coef=\"sample_type_uc_vs_healthy\")"
   ]
  },
  {
   "cell_type": "code",
   "execution_count": 25,
   "metadata": {},
   "outputs": [
    {
     "data": {
      "image/png": "[encoded data removed]",
      "text/plain": [
       "Plot with title “”"
      ]
     },
     "metadata": {},
     "output_type": "display_data"
    }
   ],
   "source": [
    "plotMA(resLFC, ylim=c(-8,8))"
   ]
  }
 ],
 "metadata": {
  "kernelspec": {
   "display_name": "R",
   "language": "R",
   "name": "ir"
  },
  "language_info": {
   "codemirror_mode": "r",
   "file_extension": ".r",
   "mimetype": "text/x-r-source",
   "name": "R",
   "pygments_lexer": "r",
   "version": "3.4.4"
  }
 },
 "nbformat": 4,
 "nbformat_minor": 2
}
