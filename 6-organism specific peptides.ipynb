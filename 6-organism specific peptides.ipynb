{
 "cells": [
  {
   "cell_type": "code",
   "execution_count": 1,
   "metadata": {},
   "outputs": [
    {
     "data": {
      "text/plain": [
       "{'_id': 2,\n",
       " 'exact_match': True,\n",
       " 'matched_organism': 'Paenibacillus phage phiIBB_Pl23',\n",
       " 'organism': 'Paenibacillus phage phiIBB_Pl23',\n",
       " 'taxid': 1337877}"
      ]
     },
     "execution_count": 1,
     "metadata": {},
     "output_type": "execute_result"
    }
   ],
   "source": [
    "import os\n",
    "import sys\n",
    "sys.path.insert(0, \"/home/gstupp/projects/metaproteomics/\")\n",
    "BASE = \"/home/gstupp/projects/Wolan/triflic_BI/UnenrichedTriflic-BISamples\"\n",
    "DATA = os.path.join(BASE, \"data\")\n",
    "OUT = os.path.join(BASE, \"out\")\n",
    "import pandas as pd\n",
    "import numpy as np\n",
    "import shelve\n",
    "from itertools import chain\n",
    "from collections import defaultdict, Counter\n",
    "from metaproteomics import utils\n",
    "from tqdm import tqdm_notebook\n",
    "from metaproteomics.analysis import taxonomy\n",
    "from metaproteomics.analysis import DBInfo\n",
    "dbinfo = DBInfo.DBInfo('compil_mgm')\n",
    "from metaproteomics.file_processing import blazmass_tools\n",
    "t = taxonomy.Taxonomy(host=\"wl-cmadmin\", port=27017)\n",
    "from pymongo import MongoClient\n",
    "protDB = dbinfo.protDB\n",
    "seqDB = dbinfo.seqDB\n",
    "taxDB = MongoClient('wl-cmadmin', 27017)[\"TaxDB_20151009\"][\"TaxDB_20151009\"]\n",
    "taxDB.find_one()"
   ]
  },
  {
   "cell_type": "code",
   "execution_count": 2,
   "metadata": {},
   "outputs": [],
   "source": [
    "samples = shelve.open(os.path.join(OUT,\"samples.shelve\"))\n",
    "#sample_name = \"RTsep_unenr1\"\n",
    "#sample = samples[sample_name]\n",
    "dfs = dict()\n",
    "dfs[\"phylum\"] = dict()\n",
    "dfs[\"family\"] = dict()\n",
    "\n",
    "sample_pep_quant = dict()\n",
    "sample_sum = dict()\n",
    "for sample_name, sample in samples.items():\n",
    "    sample_pep_quant[sample_name] = blazmass_tools.build_pep_quant_dict(sample.dta_select)\n",
    "    sample_sum[sample_name] = sum(sample_pep_quant[sample_name].values())\n",
    "\n",
    "nf = {k:v/np.median(list(sample_sum.values())) for k,v in sample_sum.items()}"
   ]
  },
  {
   "cell_type": "code",
   "execution_count": 3,
   "metadata": {},
   "outputs": [
    {
     "data": {
      "text/plain": [
       "['UC4',\n",
       " 'UC2',\n",
       " 'UC23',\n",
       " 'UC15',\n",
       " 'H2',\n",
       " 'H4',\n",
       " 'UC9',\n",
       " 'H6',\n",
       " 'H8',\n",
       " 'UC1',\n",
       " 'H5',\n",
       " 'UC8',\n",
       " 'UC6',\n",
       " 'H7',\n",
       " 'UC11',\n",
       " 'UC5',\n",
       " 'H1',\n",
       " 'H3']"
      ]
     },
     "execution_count": 3,
     "metadata": {},
     "output_type": "execute_result"
    }
   ],
   "source": [
    "list(samples.keys())"
   ]
  },
  {
   "cell_type": "code",
   "execution_count": 4,
   "metadata": {},
   "outputs": [],
   "source": [
    "sample_pep_tax = dict()"
   ]
  },
  {
   "cell_type": "code",
   "execution_count": 5,
   "metadata": {
    "scrolled": true
   },
   "outputs": [
    {
     "data": {
      "application/vnd.jupyter.widget-view+json": {
       "model_id": "47e3cc2cd21f428ba3da1005256ff133",
       "version_major": 2,
       "version_minor": 0
      },
      "text/plain": [
       "HBox(children=(IntProgress(value=0, max=18), HTML(value='')))"
      ]
     },
     "metadata": {},
     "output_type": "display_data"
    },
    {
     "data": {
      "application/vnd.jupyter.widget-view+json": {
       "model_id": "85253ed7fb3d4ec2a5b6421e0d09786a",
       "version_major": 2,
       "version_minor": 0
      },
      "text/plain": [
       "HBox(children=(IntProgress(value=0, description='UC4', max=5393), HTML(value='')))"
      ]
     },
     "metadata": {},
     "output_type": "display_data"
    },
    {
     "data": {
      "application/vnd.jupyter.widget-view+json": {
       "model_id": "7a56b53daab548e580795549df1f58e9",
       "version_major": 2,
       "version_minor": 0
      },
      "text/plain": [
       "HBox(children=(IntProgress(value=0, description='UC2', max=7356), HTML(value='')))"
      ]
     },
     "metadata": {},
     "output_type": "display_data"
    },
    {
     "data": {
      "application/vnd.jupyter.widget-view+json": {
       "model_id": "1fedd91ad42043e08e304a94999880ff",
       "version_major": 2,
       "version_minor": 0
      },
      "text/plain": [
       "HBox(children=(IntProgress(value=0, description='UC23', max=5819), HTML(value='')))"
      ]
     },
     "metadata": {},
     "output_type": "display_data"
    },
    {
     "data": {
      "application/vnd.jupyter.widget-view+json": {
       "model_id": "78ad91742e8444f8bb2f79c54dfb305f",
       "version_major": 2,
       "version_minor": 0
      },
      "text/plain": [
       "HBox(children=(IntProgress(value=0, description='UC15', max=8776), HTML(value='')))"
      ]
     },
     "metadata": {},
     "output_type": "display_data"
    },
    {
     "data": {
      "application/vnd.jupyter.widget-view+json": {
       "model_id": "2d91e738bb724d25b47769e7b41ff7b9",
       "version_major": 2,
       "version_minor": 0
      },
      "text/plain": [
       "HBox(children=(IntProgress(value=0, description='H2', max=6951), HTML(value='')))"
      ]
     },
     "metadata": {},
     "output_type": "display_data"
    },
    {
     "data": {
      "application/vnd.jupyter.widget-view+json": {
       "model_id": "6c1765e608694d9d9f3d2ccd308a8ea2",
       "version_major": 2,
       "version_minor": 0
      },
      "text/plain": [
       "HBox(children=(IntProgress(value=0, description='H4', max=5549), HTML(value='')))"
      ]
     },
     "metadata": {},
     "output_type": "display_data"
    },
    {
     "data": {
      "application/vnd.jupyter.widget-view+json": {
       "model_id": "8cd30f9da78242839a3491048ee48dad",
       "version_major": 2,
       "version_minor": 0
      },
      "text/plain": [
       "HBox(children=(IntProgress(value=0, description='UC9', max=5985), HTML(value='')))"
      ]
     },
     "metadata": {},
     "output_type": "display_data"
    },
    {
     "data": {
      "application/vnd.jupyter.widget-view+json": {
       "model_id": "11a3c506194d4e30a4bb38d4275acbed",
       "version_major": 2,
       "version_minor": 0
      },
      "text/plain": [
       "HBox(children=(IntProgress(value=0, description='H6', max=4577), HTML(value='')))"
      ]
     },
     "metadata": {},
     "output_type": "display_data"
    },
    {
     "data": {
      "application/vnd.jupyter.widget-view+json": {
       "model_id": "58bc5fb11ac84c489f1e8cae387a3a9b",
       "version_major": 2,
       "version_minor": 0
      },
      "text/plain": [
       "HBox(children=(IntProgress(value=0, description='H8', max=5217), HTML(value='')))"
      ]
     },
     "metadata": {},
     "output_type": "display_data"
    },
    {
     "data": {
      "application/vnd.jupyter.widget-view+json": {
       "model_id": "17aad3370eb34502bc1b54dc2cfb758e",
       "version_major": 2,
       "version_minor": 0
      },
      "text/plain": [
       "HBox(children=(IntProgress(value=0, description='UC1', max=7726), HTML(value='')))"
      ]
     },
     "metadata": {},
     "output_type": "display_data"
    },
    {
     "data": {
      "application/vnd.jupyter.widget-view+json": {
       "model_id": "66801c5d9def49839bb0b1f07512726a",
       "version_major": 2,
       "version_minor": 0
      },
      "text/plain": [
       "HBox(children=(IntProgress(value=0, description='H5', max=4489), HTML(value='')))"
      ]
     },
     "metadata": {},
     "output_type": "display_data"
    },
    {
     "data": {
      "application/vnd.jupyter.widget-view+json": {
       "model_id": "27204a3116a441649afdf07a9c0dcbe1",
       "version_major": 2,
       "version_minor": 0
      },
      "text/plain": [
       "HBox(children=(IntProgress(value=0, description='UC8', max=3469), HTML(value='')))"
      ]
     },
     "metadata": {},
     "output_type": "display_data"
    },
    {
     "data": {
      "application/vnd.jupyter.widget-view+json": {
       "model_id": "f8980f3e27d844e8b664a254e234b28c",
       "version_major": 2,
       "version_minor": 0
      },
      "text/plain": [
       "HBox(children=(IntProgress(value=0, description='UC6', max=952), HTML(value='')))"
      ]
     },
     "metadata": {},
     "output_type": "display_data"
    },
    {
     "data": {
      "application/vnd.jupyter.widget-view+json": {
       "model_id": "36d15f34c1ff494aa5590b13a06f79f0",
       "version_major": 2,
       "version_minor": 0
      },
      "text/plain": [
       "HBox(children=(IntProgress(value=0, description='H7', max=9991), HTML(value='')))"
      ]
     },
     "metadata": {},
     "output_type": "display_data"
    },
    {
     "data": {
      "application/vnd.jupyter.widget-view+json": {
       "model_id": "13a86a01e849450d99815c31ad252377",
       "version_major": 2,
       "version_minor": 0
      },
      "text/plain": [
       "HBox(children=(IntProgress(value=0, description='UC11', max=1930), HTML(value='')))"
      ]
     },
     "metadata": {},
     "output_type": "display_data"
    },
    {
     "data": {
      "application/vnd.jupyter.widget-view+json": {
       "model_id": "756d1db587894529a041c931f40e9528",
       "version_major": 2,
       "version_minor": 0
      },
      "text/plain": [
       "HBox(children=(IntProgress(value=0, description='UC5', max=3525), HTML(value='')))"
      ]
     },
     "metadata": {},
     "output_type": "display_data"
    },
    {
     "data": {
      "application/vnd.jupyter.widget-view+json": {
       "model_id": "550359221f7249a7b612c9d7bafa4cf2",
       "version_major": 2,
       "version_minor": 0
      },
      "text/plain": [
       "HBox(children=(IntProgress(value=0, description='H1', max=5916), HTML(value='')))"
      ]
     },
     "metadata": {},
     "output_type": "display_data"
    },
    {
     "data": {
      "application/vnd.jupyter.widget-view+json": {
       "model_id": "b3a3bfeacad440d0b4af7b632094e920",
       "version_major": 2,
       "version_minor": 0
      },
      "text/plain": [
       "HBox(children=(IntProgress(value=0, description='H3', max=4625), HTML(value='')))"
      ]
     },
     "metadata": {},
     "output_type": "display_data"
    },
    {
     "name": "stdout",
     "output_type": "stream",
     "text": [
      "\n"
     ]
    }
   ],
   "source": [
    "for sample_name, sample in tqdm_notebook(samples.items()):\n",
    "    # Do any peptides, by themselves (but restricted to the proteins ID'd in this sample),\n",
    "    # point to one particular species?\n",
    "    \n",
    "    # in this one sample\n",
    "    # get the peptides found\n",
    "    peptides = blazmass_tools.get_unmod_peptides(sample.dta_select)\n",
    "    if len(sample_pep_tax.get(sample_name,[])) == len(peptides):\n",
    "        continue\n",
    "    sample_pep_tax[sample_name] = dict()\n",
    "    for peptide in tqdm_notebook(peptides, desc=sample_name):\n",
    "        # for each peptide, get the proteins that contain id, but restrict to the proteins in this sample\n",
    "        # i.e. the proteins that can be made with at least 2 of the peptides in this sample (as determined by dtaselect)\n",
    "        prots = set(x['i'] for x in seqDB.find_one(peptide)['p'])\n",
    "        prots = prots & sample.prot_ids\n",
    "        # the taxids of these proteins\n",
    "        x = list(taxDB.aggregate([{'$match':{'_id':{'$in':list(prots)}}},\n",
    "                                  {'$group':{'_id':None,'taxid':{'$addToSet':\"$taxid\"}}}]))\n",
    "        if x:\n",
    "            taxIDs=[y for y in x[0]['taxid'] if y]\n",
    "            sample_pep_tax[sample_name][peptide] = taxIDs\n",
    "        else:\n",
    "            sample_pep_tax[sample_name][peptide] = []"
   ]
  },
  {
   "cell_type": "code",
   "execution_count": 6,
   "metadata": {},
   "outputs": [
    {
     "data": {
      "application/vnd.jupyter.widget-view+json": {
       "model_id": "67ce7fbf91b243ca97ab9e790e77ef02",
       "version_major": 2,
       "version_minor": 0
      },
      "text/plain": [
       "HBox(children=(IntProgress(value=0, max=18), HTML(value='')))"
      ]
     },
     "metadata": {},
     "output_type": "display_data"
    },
    {
     "data": {
      "application/vnd.jupyter.widget-view+json": {
       "model_id": "a9c3eb7a1f96492f93a5b17bd4f91ff5",
       "version_major": 2,
       "version_minor": 0
      },
      "text/plain": [
       "HBox(children=(IntProgress(value=0, max=5549), HTML(value='')))"
      ]
     },
     "metadata": {},
     "output_type": "display_data"
    },
    {
     "data": {
      "application/vnd.jupyter.widget-view+json": {
       "model_id": "4d4467e409714e739e917e10b607da8f",
       "version_major": 2,
       "version_minor": 0
      },
      "text/plain": [
       "HBox(children=(IntProgress(value=0, max=3469), HTML(value='')))"
      ]
     },
     "metadata": {},
     "output_type": "display_data"
    },
    {
     "data": {
      "application/vnd.jupyter.widget-view+json": {
       "model_id": "d486557d771e4e45a0a4a747c306cd24",
       "version_major": 2,
       "version_minor": 0
      },
      "text/plain": [
       "HBox(children=(IntProgress(value=0, max=4489), HTML(value='')))"
      ]
     },
     "metadata": {},
     "output_type": "display_data"
    },
    {
     "data": {
      "application/vnd.jupyter.widget-view+json": {
       "model_id": "092896ef6d89402ebe6486b2d58986dc",
       "version_major": 2,
       "version_minor": 0
      },
      "text/plain": [
       "HBox(children=(IntProgress(value=0, max=952), HTML(value='')))"
      ]
     },
     "metadata": {},
     "output_type": "display_data"
    },
    {
     "data": {
      "application/vnd.jupyter.widget-view+json": {
       "model_id": "ba401ae8b830449dbbee3bd9d3883416",
       "version_major": 2,
       "version_minor": 0
      },
      "text/plain": [
       "HBox(children=(IntProgress(value=0, max=5217), HTML(value='')))"
      ]
     },
     "metadata": {},
     "output_type": "display_data"
    },
    {
     "data": {
      "application/vnd.jupyter.widget-view+json": {
       "model_id": "e3a3a21f2ae44c91900cb6ecd8a5d111",
       "version_major": 2,
       "version_minor": 0
      },
      "text/plain": [
       "HBox(children=(IntProgress(value=0, max=8776), HTML(value='')))"
      ]
     },
     "metadata": {},
     "output_type": "display_data"
    },
    {
     "data": {
      "application/vnd.jupyter.widget-view+json": {
       "model_id": "a62f9ccabd14426fbfb63135921d89eb",
       "version_major": 2,
       "version_minor": 0
      },
      "text/plain": [
       "HBox(children=(IntProgress(value=0, max=4577), HTML(value='')))"
      ]
     },
     "metadata": {},
     "output_type": "display_data"
    },
    {
     "data": {
      "application/vnd.jupyter.widget-view+json": {
       "model_id": "883383c281824157a3f6eccfa93a991e",
       "version_major": 2,
       "version_minor": 0
      },
      "text/plain": [
       "HBox(children=(IntProgress(value=0, max=7726), HTML(value='')))"
      ]
     },
     "metadata": {},
     "output_type": "display_data"
    },
    {
     "data": {
      "application/vnd.jupyter.widget-view+json": {
       "model_id": "86d04a1eff8143f49c3ed3f99b5eaff3",
       "version_major": 2,
       "version_minor": 0
      },
      "text/plain": [
       "HBox(children=(IntProgress(value=0, max=5393), HTML(value='')))"
      ]
     },
     "metadata": {},
     "output_type": "display_data"
    },
    {
     "data": {
      "application/vnd.jupyter.widget-view+json": {
       "model_id": "17c1e0e820294497927d94c83f0ec4d5",
       "version_major": 2,
       "version_minor": 0
      },
      "text/plain": [
       "HBox(children=(IntProgress(value=0, max=5819), HTML(value='')))"
      ]
     },
     "metadata": {},
     "output_type": "display_data"
    },
    {
     "data": {
      "application/vnd.jupyter.widget-view+json": {
       "model_id": "d9e3f75b0a6340e6a391adf8fb82e9b0",
       "version_major": 2,
       "version_minor": 0
      },
      "text/plain": [
       "HBox(children=(IntProgress(value=0, max=3525), HTML(value='')))"
      ]
     },
     "metadata": {},
     "output_type": "display_data"
    },
    {
     "data": {
      "application/vnd.jupyter.widget-view+json": {
       "model_id": "795e2729d77941779e75c7e8182cde19",
       "version_major": 2,
       "version_minor": 0
      },
      "text/plain": [
       "HBox(children=(IntProgress(value=0, max=1930), HTML(value='')))"
      ]
     },
     "metadata": {},
     "output_type": "display_data"
    },
    {
     "data": {
      "application/vnd.jupyter.widget-view+json": {
       "model_id": "f45c11fd72414c25beacfa1bf7801f6d",
       "version_major": 2,
       "version_minor": 0
      },
      "text/plain": [
       "HBox(children=(IntProgress(value=0, max=5916), HTML(value='')))"
      ]
     },
     "metadata": {},
     "output_type": "display_data"
    },
    {
     "data": {
      "application/vnd.jupyter.widget-view+json": {
       "model_id": "cacfbd4fe89c4e7d8794fe8c708f572a",
       "version_major": 2,
       "version_minor": 0
      },
      "text/plain": [
       "HBox(children=(IntProgress(value=0, max=4625), HTML(value='')))"
      ]
     },
     "metadata": {},
     "output_type": "display_data"
    },
    {
     "data": {
      "application/vnd.jupyter.widget-view+json": {
       "model_id": "f69ae2cec2ca4c0e8ef8920aa18d7568",
       "version_major": 2,
       "version_minor": 0
      },
      "text/plain": [
       "HBox(children=(IntProgress(value=0, max=6951), HTML(value='')))"
      ]
     },
     "metadata": {},
     "output_type": "display_data"
    },
    {
     "data": {
      "application/vnd.jupyter.widget-view+json": {
       "model_id": "de1d43a1f4894be184b027700467c821",
       "version_major": 2,
       "version_minor": 0
      },
      "text/plain": [
       "HBox(children=(IntProgress(value=0, max=7356), HTML(value='')))"
      ]
     },
     "metadata": {},
     "output_type": "display_data"
    },
    {
     "data": {
      "application/vnd.jupyter.widget-view+json": {
       "model_id": "072f11135e5e49fabe67568679f42231",
       "version_major": 2,
       "version_minor": 0
      },
      "text/plain": [
       "HBox(children=(IntProgress(value=0, max=5985), HTML(value='')))"
      ]
     },
     "metadata": {},
     "output_type": "display_data"
    },
    {
     "data": {
      "application/vnd.jupyter.widget-view+json": {
       "model_id": "973c461a401449bdb212b6172fd03187",
       "version_major": 2,
       "version_minor": 0
      },
      "text/plain": [
       "HBox(children=(IntProgress(value=0, max=9991), HTML(value='')))"
      ]
     },
     "metadata": {},
     "output_type": "display_data"
    },
    {
     "name": "stdout",
     "output_type": "stream",
     "text": [
      "\n"
     ]
    }
   ],
   "source": [
    "sample_pep_lca = dict()\n",
    "sample_pep_lcatax = dict()\n",
    "for sample_name, pep_tax in tqdm_notebook(sample_pep_tax.items()):\n",
    "    \n",
    "    # for each peptide and associated list of taxids, get the LCA for that peptide\n",
    "    sample_pep_lca[sample_name] = dict()\n",
    "    all_taxids = set(chain(*pep_tax.values()))\n",
    "    for pep, taxIDs in tqdm_notebook(pep_tax.items()):\n",
    "        sample_pep_lca[sample_name][pep] = t.LCA(taxIDs)\n",
    "    \n",
    "    # get the associated taxonomy info\n",
    "    sample_pep_lcatax[sample_name] = dict()\n",
    "    pep_lca = sample_pep_lca[sample_name]\n",
    "    all_taxids = set(pep_lca.values())\n",
    "    taxdict = {x['taxid']:x for x in t.taxonomy_coll.find({'taxid': {'$in': list(all_taxids)}})}\n",
    "    for pep, lca in pep_lca.items():\n",
    "        if lca:\n",
    "            tax = taxdict[lca]\n",
    "            if tax['rank#'] and tax['rank#']>=16:\n",
    "                sample_pep_lcatax[sample_name][pep] = tax"
   ]
  },
  {
   "cell_type": "code",
   "execution_count": 7,
   "metadata": {
    "scrolled": false
   },
   "outputs": [
    {
     "data": {
      "application/vnd.jupyter.widget-view+json": {
       "model_id": "09bbf0bb9ceb4376b5bff737d76c7855",
       "version_major": 2,
       "version_minor": 0
      },
      "text/plain": [
       "HBox(children=(IntProgress(value=0, max=18), HTML(value='')))"
      ]
     },
     "metadata": {},
     "output_type": "display_data"
    },
    {
     "data": {
      "application/vnd.jupyter.widget-view+json": {
       "model_id": "aebb68c82ae349c1ad46fade41695dca",
       "version_major": 2,
       "version_minor": 0
      },
      "text/plain": [
       "HBox(children=(IntProgress(value=0, max=5549), HTML(value='')))"
      ]
     },
     "metadata": {},
     "output_type": "display_data"
    },
    {
     "data": {
      "application/vnd.jupyter.widget-view+json": {
       "model_id": "c88def6df0694945819f3b2c0d653169",
       "version_major": 2,
       "version_minor": 0
      },
      "text/plain": [
       "HBox(children=(IntProgress(value=0, max=5549), HTML(value='')))"
      ]
     },
     "metadata": {},
     "output_type": "display_data"
    },
    {
     "data": {
      "application/vnd.jupyter.widget-view+json": {
       "model_id": "888d759719a44aefafc0ff1d60fe12c6",
       "version_major": 2,
       "version_minor": 0
      },
      "text/plain": [
       "HBox(children=(IntProgress(value=0, max=3469), HTML(value='')))"
      ]
     },
     "metadata": {},
     "output_type": "display_data"
    },
    {
     "data": {
      "application/vnd.jupyter.widget-view+json": {
       "model_id": "6c958ad477404fbc97c93383f4474fb2",
       "version_major": 2,
       "version_minor": 0
      },
      "text/plain": [
       "HBox(children=(IntProgress(value=0, max=3469), HTML(value='')))"
      ]
     },
     "metadata": {},
     "output_type": "display_data"
    },
    {
     "data": {
      "application/vnd.jupyter.widget-view+json": {
       "model_id": "2997066f8e9547329c75b9deeeb18565",
       "version_major": 2,
       "version_minor": 0
      },
      "text/plain": [
       "HBox(children=(IntProgress(value=0, max=4489), HTML(value='')))"
      ]
     },
     "metadata": {},
     "output_type": "display_data"
    },
    {
     "data": {
      "application/vnd.jupyter.widget-view+json": {
       "model_id": "131eb16f20b649bfba28cb9b653f8352",
       "version_major": 2,
       "version_minor": 0
      },
      "text/plain": [
       "HBox(children=(IntProgress(value=0, max=4489), HTML(value='')))"
      ]
     },
     "metadata": {},
     "output_type": "display_data"
    },
    {
     "data": {
      "application/vnd.jupyter.widget-view+json": {
       "model_id": "0c0d4ebaba4b40fcaa6046921d919334",
       "version_major": 2,
       "version_minor": 0
      },
      "text/plain": [
       "HBox(children=(IntProgress(value=0, max=7726), HTML(value='')))"
      ]
     },
     "metadata": {},
     "output_type": "display_data"
    },
    {
     "data": {
      "application/vnd.jupyter.widget-view+json": {
       "model_id": "5c472a1ae54f4b5a9c9b8e6ff9736652",
       "version_major": 2,
       "version_minor": 0
      },
      "text/plain": [
       "HBox(children=(IntProgress(value=0, max=7726), HTML(value='')))"
      ]
     },
     "metadata": {},
     "output_type": "display_data"
    },
    {
     "data": {
      "application/vnd.jupyter.widget-view+json": {
       "model_id": "36625624a4c74b1fb428e299f829944b",
       "version_major": 2,
       "version_minor": 0
      },
      "text/plain": [
       "HBox(children=(IntProgress(value=0, max=5985), HTML(value='')))"
      ]
     },
     "metadata": {},
     "output_type": "display_data"
    },
    {
     "data": {
      "application/vnd.jupyter.widget-view+json": {
       "model_id": "1c4d7e02131f46a4a97a09a7ca958041",
       "version_major": 2,
       "version_minor": 0
      },
      "text/plain": [
       "HBox(children=(IntProgress(value=0, max=5985), HTML(value='')))"
      ]
     },
     "metadata": {},
     "output_type": "display_data"
    },
    {
     "data": {
      "application/vnd.jupyter.widget-view+json": {
       "model_id": "0fd97ad6dbfc4ac5925cd4146cb39384",
       "version_major": 2,
       "version_minor": 0
      },
      "text/plain": [
       "HBox(children=(IntProgress(value=0, max=5217), HTML(value='')))"
      ]
     },
     "metadata": {},
     "output_type": "display_data"
    },
    {
     "data": {
      "application/vnd.jupyter.widget-view+json": {
       "model_id": "55d229d3fcfb4564aa88d18f8e20da1f",
       "version_major": 2,
       "version_minor": 0
      },
      "text/plain": [
       "HBox(children=(IntProgress(value=0, max=5217), HTML(value='')))"
      ]
     },
     "metadata": {},
     "output_type": "display_data"
    },
    {
     "data": {
      "application/vnd.jupyter.widget-view+json": {
       "model_id": "80a51ffba42f4f2981b91160f970e26c",
       "version_major": 2,
       "version_minor": 0
      },
      "text/plain": [
       "HBox(children=(IntProgress(value=0, max=8776), HTML(value='')))"
      ]
     },
     "metadata": {},
     "output_type": "display_data"
    },
    {
     "data": {
      "application/vnd.jupyter.widget-view+json": {
       "model_id": "32226bb0c657478eb3e340973dfa65df",
       "version_major": 2,
       "version_minor": 0
      },
      "text/plain": [
       "HBox(children=(IntProgress(value=0, max=8776), HTML(value='')))"
      ]
     },
     "metadata": {},
     "output_type": "display_data"
    },
    {
     "data": {
      "application/vnd.jupyter.widget-view+json": {
       "model_id": "85177db233104b08bb9395b62606fd06",
       "version_major": 2,
       "version_minor": 0
      },
      "text/plain": [
       "HBox(children=(IntProgress(value=0, max=4577), HTML(value='')))"
      ]
     },
     "metadata": {},
     "output_type": "display_data"
    },
    {
     "data": {
      "application/vnd.jupyter.widget-view+json": {
       "model_id": "78e06f4ebfe44e55b14495f7862e723c",
       "version_major": 2,
       "version_minor": 0
      },
      "text/plain": [
       "HBox(children=(IntProgress(value=0, max=4577), HTML(value='')))"
      ]
     },
     "metadata": {},
     "output_type": "display_data"
    },
    {
     "data": {
      "application/vnd.jupyter.widget-view+json": {
       "model_id": "d1d8f59e7d504e73a9fa0be5980d4ed3",
       "version_major": 2,
       "version_minor": 0
      },
      "text/plain": [
       "HBox(children=(IntProgress(value=0, max=952), HTML(value='')))"
      ]
     },
     "metadata": {},
     "output_type": "display_data"
    },
    {
     "data": {
      "application/vnd.jupyter.widget-view+json": {
       "model_id": "6b0d6c5018ae4a3683390bb229f7ec72",
       "version_major": 2,
       "version_minor": 0
      },
      "text/plain": [
       "HBox(children=(IntProgress(value=0, max=952), HTML(value='')))"
      ]
     },
     "metadata": {},
     "output_type": "display_data"
    },
    {
     "data": {
      "application/vnd.jupyter.widget-view+json": {
       "model_id": "579f3c147a434dd8a0416741e3e9d7c3",
       "version_major": 2,
       "version_minor": 0
      },
      "text/plain": [
       "HBox(children=(IntProgress(value=0, max=5393), HTML(value='')))"
      ]
     },
     "metadata": {},
     "output_type": "display_data"
    },
    {
     "data": {
      "application/vnd.jupyter.widget-view+json": {
       "model_id": "2f004e2404c9412abc5b125fd20b6d06",
       "version_major": 2,
       "version_minor": 0
      },
      "text/plain": [
       "HBox(children=(IntProgress(value=0, max=5393), HTML(value='')))"
      ]
     },
     "metadata": {},
     "output_type": "display_data"
    },
    {
     "data": {
      "application/vnd.jupyter.widget-view+json": {
       "model_id": "52db7be7ecf3421e93f74fd3d0a2a815",
       "version_major": 2,
       "version_minor": 0
      },
      "text/plain": [
       "HBox(children=(IntProgress(value=0, max=5819), HTML(value='')))"
      ]
     },
     "metadata": {},
     "output_type": "display_data"
    },
    {
     "data": {
      "application/vnd.jupyter.widget-view+json": {
       "model_id": "7eeefdd13d034527b3232e23e2fc0e64",
       "version_major": 2,
       "version_minor": 0
      },
      "text/plain": [
       "HBox(children=(IntProgress(value=0, max=5819), HTML(value='')))"
      ]
     },
     "metadata": {},
     "output_type": "display_data"
    },
    {
     "data": {
      "application/vnd.jupyter.widget-view+json": {
       "model_id": "b26e8c5ecf5241a19de9454aaaa776de",
       "version_major": 2,
       "version_minor": 0
      },
      "text/plain": [
       "HBox(children=(IntProgress(value=0, max=4625), HTML(value='')))"
      ]
     },
     "metadata": {},
     "output_type": "display_data"
    },
    {
     "data": {
      "application/vnd.jupyter.widget-view+json": {
       "model_id": "65f637a45c974a2a8c3b483ab7ce0bc6",
       "version_major": 2,
       "version_minor": 0
      },
      "text/plain": [
       "HBox(children=(IntProgress(value=0, max=4625), HTML(value='')))"
      ]
     },
     "metadata": {},
     "output_type": "display_data"
    },
    {
     "data": {
      "application/vnd.jupyter.widget-view+json": {
       "model_id": "dba24b0bb2a4439cb4b9e4cf209fedb4",
       "version_major": 2,
       "version_minor": 0
      },
      "text/plain": [
       "HBox(children=(IntProgress(value=0, max=1930), HTML(value='')))"
      ]
     },
     "metadata": {},
     "output_type": "display_data"
    },
    {
     "data": {
      "application/vnd.jupyter.widget-view+json": {
       "model_id": "c5f5d4774d474a769733d0e2d9b7cb2e",
       "version_major": 2,
       "version_minor": 0
      },
      "text/plain": [
       "HBox(children=(IntProgress(value=0, max=1930), HTML(value='')))"
      ]
     },
     "metadata": {},
     "output_type": "display_data"
    },
    {
     "data": {
      "application/vnd.jupyter.widget-view+json": {
       "model_id": "a778d3403a794092a0a4813078507f2f",
       "version_major": 2,
       "version_minor": 0
      },
      "text/plain": [
       "HBox(children=(IntProgress(value=0, max=5916), HTML(value='')))"
      ]
     },
     "metadata": {},
     "output_type": "display_data"
    },
    {
     "data": {
      "application/vnd.jupyter.widget-view+json": {
       "model_id": "aa0038e425c6412faef503479cebc7b7",
       "version_major": 2,
       "version_minor": 0
      },
      "text/plain": [
       "HBox(children=(IntProgress(value=0, max=5916), HTML(value='')))"
      ]
     },
     "metadata": {},
     "output_type": "display_data"
    },
    {
     "data": {
      "application/vnd.jupyter.widget-view+json": {
       "model_id": "b110ae90baed41a48a372a2378fbece1",
       "version_major": 2,
       "version_minor": 0
      },
      "text/plain": [
       "HBox(children=(IntProgress(value=0, max=6951), HTML(value='')))"
      ]
     },
     "metadata": {},
     "output_type": "display_data"
    },
    {
     "data": {
      "application/vnd.jupyter.widget-view+json": {
       "model_id": "40e04635d2204c7f847b0f7ba0fe682d",
       "version_major": 2,
       "version_minor": 0
      },
      "text/plain": [
       "HBox(children=(IntProgress(value=0, max=6951), HTML(value='')))"
      ]
     },
     "metadata": {},
     "output_type": "display_data"
    },
    {
     "data": {
      "application/vnd.jupyter.widget-view+json": {
       "model_id": "787a240a710a4699b5df00ca49d876cc",
       "version_major": 2,
       "version_minor": 0
      },
      "text/plain": [
       "HBox(children=(IntProgress(value=0, max=7356), HTML(value='')))"
      ]
     },
     "metadata": {},
     "output_type": "display_data"
    },
    {
     "data": {
      "application/vnd.jupyter.widget-view+json": {
       "model_id": "182c10ace4c640cd86e9681ad9adbc25",
       "version_major": 2,
       "version_minor": 0
      },
      "text/plain": [
       "HBox(children=(IntProgress(value=0, max=7356), HTML(value='')))"
      ]
     },
     "metadata": {},
     "output_type": "display_data"
    },
    {
     "data": {
      "application/vnd.jupyter.widget-view+json": {
       "model_id": "e229f7517dd44346839610af6e853c0e",
       "version_major": 2,
       "version_minor": 0
      },
      "text/plain": [
       "HBox(children=(IntProgress(value=0, max=3525), HTML(value='')))"
      ]
     },
     "metadata": {},
     "output_type": "display_data"
    },
    {
     "data": {
      "application/vnd.jupyter.widget-view+json": {
       "model_id": "2444b802978e4459bf1941a0313788e3",
       "version_major": 2,
       "version_minor": 0
      },
      "text/plain": [
       "HBox(children=(IntProgress(value=0, max=3525), HTML(value='')))"
      ]
     },
     "metadata": {},
     "output_type": "display_data"
    },
    {
     "data": {
      "application/vnd.jupyter.widget-view+json": {
       "model_id": "dd0274a05bf94557a77796cd7a3ea4c8",
       "version_major": 2,
       "version_minor": 0
      },
      "text/plain": [
       "HBox(children=(IntProgress(value=0, max=9991), HTML(value='')))"
      ]
     },
     "metadata": {},
     "output_type": "display_data"
    },
    {
     "data": {
      "application/vnd.jupyter.widget-view+json": {
       "model_id": "d9e21a8b6d5f41b0aca18b3dedaa5933",
       "version_major": 2,
       "version_minor": 0
      },
      "text/plain": [
       "HBox(children=(IntProgress(value=0, max=9991), HTML(value='')))"
      ]
     },
     "metadata": {},
     "output_type": "display_data"
    },
    {
     "name": "stdout",
     "output_type": "stream",
     "text": [
      "\n"
     ]
    }
   ],
   "source": [
    "for sample_name, pep_lcatax in tqdm_notebook(sample_pep_lcatax.items()):\n",
    "    \n",
    "    species_pep = defaultdict(set)\n",
    "    pep_species = {pep:tax['scientific_name'] for pep,tax in pep_lcatax.items()}\n",
    "    for pep,species in pep_species.items():\n",
    "        species_pep[species].add(pep)\n",
    "            \n",
    "    species_pep_list = sorted(list(species_pep.items()), key=lambda x:len(x[1]), reverse=True)\n",
    "    \n",
    "    with open(os.path.join(OUT,\"organims_specific_peptides_{}.csv\".format(sample_name)), 'w') as f:\n",
    "        f.writelines('\\n'.join([x[0] + \";\" + \",\".join(x[1]) for x in species_pep_list]))\n",
    "    # Take every peptide and bring it up to family\n",
    "    # Quantify family counts\n",
    "    \n",
    "    for rank in [\"phylum\", \"family\"]:\n",
    "        organism_pep = defaultdict(set)\n",
    "        for pep, lca in tqdm_notebook(sample_pep_lca[sample_name].items()):\n",
    "            family = t.get_rank(lca, rank, \"taxid\")\n",
    "            if family:\n",
    "                organism_pep[family].add(pep)\n",
    "        \n",
    "        organism_quant = {k:sum([sample_pep_quant[sample_name][pep] for pep in peps]) for k,peps in organism_pep.items()}\n",
    "        \n",
    "        df = pd.DataFrame(organism_quant, index = ['count']).T\n",
    "        df['organism_name'] = [t.taxid_to_taxonomy(int(x))['scientific_name'] for x in df.index]\n",
    "        df=df.sort_values(\"count\",ascending=False)\n",
    "        \n",
    "        df.to_csv(os.path.join(OUT,\"{}_count_{}.csv\".format(rank, sample_name)))\n",
    "        dfs[rank][sample_name] = df"
   ]
  },
  {
   "cell_type": "code",
   "execution_count": 8,
   "metadata": {},
   "outputs": [],
   "source": [
    "for rank in [\"phylum\", \"family\"]:\n",
    "    for sample_name, df in dfs[rank].items():\n",
    "        df['taxid'] = df.index\n",
    "        df['sample'] = sample_name\n",
    "    all_df = pd.concat(list(dfs[rank].values()))\n",
    "    all_df.to_csv(os.path.join(OUT,\"{}_count.csv\".format(rank)))"
   ]
  },
  {
   "cell_type": "code",
   "execution_count": 9,
   "metadata": {},
   "outputs": [],
   "source": [
    "#%% pivot and plot\n",
    "def to_percent(y, position):\n",
    "    s = str(100 * y)\n",
    "    if matplotlib.rcParams['text.usetex'] is True:\n",
    "        return s + r'$\\%$'\n",
    "    else:\n",
    "        return s + '%'\n",
    "import matplotlib\n",
    "import matplotlib.pyplot as plt\n",
    "from matplotlib.ticker import FuncFormatter"
   ]
  },
  {
   "cell_type": "code",
   "execution_count": 13,
   "metadata": {},
   "outputs": [
    {
     "name": "stderr",
     "output_type": "stream",
     "text": [
      "/usr/lib/python3/dist-packages/matplotlib/figure.py:1744: UserWarning: This figure includes Axes that are not compatible with tight_layout, so its results might be incorrect.\n",
      "  warnings.warn(\"This figure includes Axes that are not \"\n"
     ]
    },
    {
     "data": {
      "image/png": "[encoded data removed]",
      "text/plain": [
       "<matplotlib.figure.Figure at 0x7fe0b8668ba8>"
      ]
     },
     "metadata": {},
     "output_type": "display_data"
    }
   ],
   "source": [
    "rank = \"family\"\n",
    "all_df = pd.concat(list(dfs[rank].values()))\n",
    "f = plt.figure(figsize=(12*1.25,8*1.25))\n",
    "matplotlib.style.use('ggplot')\n",
    "df_pivot = all_df.pivot_table(values=\"count\", index=\"sample\", columns=\"organism_name\").dropna(1, thresh=3)\n",
    "\"\"\"\n",
    "if rank == \"family\":\n",
    "    del df_pivot['muridae']\n",
    "    del df_pivot['poaceae']\n",
    "    del df_pivot['hominidae']\n",
    "elif rank == \"phylum\":\n",
    "    del df_pivot['chordata']\n",
    "\"\"\"\n",
    "df_pivot.to_csv(os.path.join(OUT,\"{}_count_pivot.csv\".format(rank)))\n",
    "df_pivot = df_pivot.div(df_pivot.sum(axis=1), axis=0)\n",
    "df_pivot = df_pivot[df_pivot.columns[df_pivot.sum()>0.05]]\n",
    "df_pivot = df_pivot[df_pivot.sum().sort_values().index]\n",
    "other = pd.Series(1-df_pivot.sum(axis=1), name = \"Other\")\n",
    "df_pivot['other'] = other\n",
    "#df_pivot = df_pivot[[-1]+list(range(len(df_pivot.columns)-1))]\n",
    "\n",
    "ax = df_pivot.plot.bar(stacked=True, legend = 'reverse', ylim=(0,1), ax=f.gca())\n",
    "lgd = plt.legend()\n",
    "handles, labels = ax.get_legend_handles_labels()\n",
    "lgd = plt.legend(reversed(handles), reversed(labels), loc='center left', bbox_to_anchor=(1.0, 0.5))\n",
    "ax.set_ylabel(\"Normalized Count\")\n",
    "ax.title.set_fontsize(20)\n",
    "formatter = FuncFormatter(to_percent)\n",
    "plt.gca().yaxis.set_major_formatter(formatter)\n",
    "f.subplots_adjust(right=0.8)\n",
    "f.savefig(os.path.join(OUT,\"{}_count_pivot.pdf\".format(rank)), bbox_inches='tight')\n",
    "\n",
    "#%%\n",
    "df_sum = pd.DataFrame(df_pivot.sum(1))\n",
    "df_sum['sum'] = [sample_sum[x] for x in df_sum.index]\n",
    "df_sum['p'] = df_sum[0]/df_sum['sum']\n",
    "df_sum.columns = ['phylum specific count', 'total', 'p']"
   ]
  },
  {
   "cell_type": "code",
   "execution_count": 15,
   "metadata": {},
   "outputs": [
    {
     "name": "stderr",
     "output_type": "stream",
     "text": [
      "/usr/lib/python3/dist-packages/matplotlib/figure.py:1744: UserWarning: This figure includes Axes that are not compatible with tight_layout, so its results might be incorrect.\n",
      "  warnings.warn(\"This figure includes Axes that are not \"\n"
     ]
    },
    {
     "data": {
      "image/png": "[encoded data removed]",
      "text/plain": [
       "<matplotlib.figure.Figure at 0x7fe0b9a32fd0>"
      ]
     },
     "metadata": {},
     "output_type": "display_data"
    }
   ],
   "source": [
    "rank = \"phylum\"\n",
    "all_df = pd.concat(list(dfs[rank].values()))\n",
    "f = plt.figure(figsize=(12*1.25,8*1.25))\n",
    "matplotlib.style.use('ggplot')\n",
    "df_pivot = all_df.pivot_table(values=\"count\", index=\"sample\", columns=\"organism_name\").dropna(1, thresh=3)\n",
    "\"\"\"\n",
    "if rank == \"family\":\n",
    "    del df_pivot['muridae']\n",
    "    del df_pivot['poaceae']\n",
    "    del df_pivot['hominidae']\n",
    "elif rank == \"phylum\":\n",
    "    del df_pivot['chordata']\n",
    "\"\"\"\n",
    "df_pivot.to_csv(os.path.join(OUT,\"{}_count_pivot.csv\".format(rank)))\n",
    "df_pivot = df_pivot.div(df_pivot.sum(axis=1), axis=0)\n",
    "df_pivot = df_pivot[df_pivot.columns[df_pivot.sum()>0.02]]\n",
    "df_pivot = df_pivot[df_pivot.sum().sort_values().index]\n",
    "other = pd.Series(1-df_pivot.sum(axis=1), name = \"Other\")\n",
    "df_pivot['other'] = other\n",
    "#df_pivot = df_pivot[[-1]+list(range(len(df_pivot.columns)-1))]\n",
    "\n",
    "ax = df_pivot.plot.bar(stacked=True, legend = 'reverse', ylim=(0,1), ax=f.gca())\n",
    "lgd = plt.legend()\n",
    "handles, labels = ax.get_legend_handles_labels()\n",
    "lgd = plt.legend(reversed(handles), reversed(labels), loc='center left', bbox_to_anchor=(1.0, 0.5))\n",
    "ax.set_ylabel(\"Normalized Count\")\n",
    "ax.title.set_fontsize(20)\n",
    "formatter = FuncFormatter(to_percent)\n",
    "plt.gca().yaxis.set_major_formatter(formatter)\n",
    "f.subplots_adjust(right=0.8)\n",
    "f.savefig(os.path.join(OUT,\"{}_count_pivot.pdf\".format(rank)), bbox_inches='tight')\n",
    "\n",
    "#%%\n",
    "df_sum = pd.DataFrame(df_pivot.sum(1))\n",
    "df_sum['sum'] = [sample_sum[x] for x in df_sum.index]\n",
    "df_sum['p'] = df_sum[0]/df_sum['sum']\n",
    "df_sum.columns = ['phylum specific count', 'total', 'p']"
   ]
  },
  {
   "cell_type": "code",
   "execution_count": null,
   "metadata": {},
   "outputs": [],
   "source": []
  }
 ],
 "metadata": {
  "kernelspec": {
   "display_name": "Python 3",
   "language": "python",
   "name": "python3"
  },
  "language_info": {
   "codemirror_mode": {
    "name": "ipython",
    "version": 3
   },
   "file_extension": ".py",
   "mimetype": "text/x-python",
   "name": "python",
   "nbconvert_exporter": "python",
   "pygments_lexer": "ipython3",
   "version": "3.5.2"
  }
 },
 "nbformat": 4,
 "nbformat_minor": 2
}
