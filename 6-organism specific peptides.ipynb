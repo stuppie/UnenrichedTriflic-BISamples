{
 "cells": [
  {
   "cell_type": "code",
   "execution_count": 1,
   "metadata": {},
   "outputs": [
    {
     "data": {
      "text/plain": [
       "{'_id': 2,\n",
       " 'exact_match': True,\n",
       " 'matched_organism': 'Paenibacillus phage phiIBB_Pl23',\n",
       " 'organism': 'Paenibacillus phage phiIBB_Pl23',\n",
       " 'taxid': 1337877}"
      ]
     },
     "execution_count": 1,
     "metadata": {},
     "output_type": "execute_result"
    }
   ],
   "source": [
    "import os\n",
    "import sys\n",
    "sys.path.insert(0, \"/home/gstupp/projects/metaproteomics/\")\n",
    "BASE = \"/home/gstupp/projects/Wolan/triflic_BI/UnenrichedTriflic-BISamples\"\n",
    "DATA = os.path.join(BASE, \"data\")\n",
    "OUT = os.path.join(BASE, \"out\")\n",
    "import pandas as pd\n",
    "import numpy as np\n",
    "import shelve\n",
    "from itertools import chain\n",
    "from collections import defaultdict, Counter\n",
    "from metaproteomics import utils\n",
    "from tqdm import tqdm_notebook\n",
    "from metaproteomics.analysis import taxonomy\n",
    "from metaproteomics.analysis import DBInfo\n",
    "dbinfo = DBInfo.DBInfo('compil_mgm')\n",
    "from metaproteomics.file_processing import blazmass_tools\n",
    "t = taxonomy.Taxonomy(host=\"wl-cmadmin\", port=27017)\n",
    "from pymongo import MongoClient\n",
    "protDB = dbinfo.protDB\n",
    "seqDB = dbinfo.seqDB\n",
    "taxDB = MongoClient('wl-cmadmin', 27017)[\"TaxDB_20151009\"][\"TaxDB_20151009\"]\n",
    "taxDB.find_one()"
   ]
  },
  {
   "cell_type": "code",
   "execution_count": 2,
   "metadata": {},
   "outputs": [],
   "source": [
    "samples = shelve.open(os.path.join(OUT,\"samples.shelve\"))\n",
    "#sample_name = \"RTsep_unenr1\"\n",
    "#sample = samples[sample_name]\n",
    "dfs = dict()\n",
    "dfs[\"phylum\"] = dict()\n",
    "dfs[\"family\"] = dict()\n",
    "\n",
    "sample_pep_quant = dict()\n",
    "sample_sum = dict()\n",
    "for sample_name, sample in samples.items():\n",
    "    sample_pep_quant[sample_name] = blazmass_tools.build_pep_quant_dict(sample.dta_select)\n",
    "    sample_sum[sample_name] = sum(sample_pep_quant[sample_name].values())\n",
    "\n",
    "nf = {k:v/np.median(list(sample_sum.values())) for k,v in sample_sum.items()}"
   ]
  },
  {
   "cell_type": "code",
   "execution_count": 3,
   "metadata": {},
   "outputs": [
    {
     "data": {
      "text/plain": [
       "['UC4',\n",
       " 'UC2',\n",
       " 'UC23',\n",
       " 'UC15',\n",
       " 'H2',\n",
       " 'H4',\n",
       " 'UC9',\n",
       " 'H6',\n",
       " 'H8',\n",
       " 'UC1',\n",
       " 'H5',\n",
       " 'UC8',\n",
       " 'UC6',\n",
       " 'H7',\n",
       " 'UC11',\n",
       " 'UC5',\n",
       " 'H1',\n",
       " 'H3']"
      ]
     },
     "execution_count": 3,
     "metadata": {},
     "output_type": "execute_result"
    }
   ],
   "source": [
    "list(samples.keys())"
   ]
  },
  {
   "cell_type": "code",
   "execution_count": 4,
   "metadata": {},
   "outputs": [],
   "source": [
    "sample_pep_tax = dict()"
   ]
  },
  {
   "cell_type": "code",
   "execution_count": null,
   "metadata": {
    "scrolled": true
   },
   "outputs": [
    {
     "data": {
      "application/vnd.jupyter.widget-view+json": {
       "model_id": "47e3cc2cd21f428ba3da1005256ff133",
       "version_major": 2,
       "version_minor": 0
      },
      "text/plain": [
       "HBox(children=(IntProgress(value=0, max=18), HTML(value='')))"
      ]
     },
     "metadata": {},
     "output_type": "display_data"
    },
    {
     "data": {
      "application/vnd.jupyter.widget-view+json": {
       "model_id": "85253ed7fb3d4ec2a5b6421e0d09786a",
       "version_major": 2,
       "version_minor": 0
      },
      "text/plain": [
       "HBox(children=(IntProgress(value=0, description='UC4', max=5393), HTML(value='')))"
      ]
     },
     "metadata": {},
     "output_type": "display_data"
    },
    {
     "data": {
      "application/vnd.jupyter.widget-view+json": {
       "model_id": "7a56b53daab548e580795549df1f58e9",
       "version_major": 2,
       "version_minor": 0
      },
      "text/plain": [
       "HBox(children=(IntProgress(value=0, description='UC2', max=7356), HTML(value='')))"
      ]
     },
     "metadata": {},
     "output_type": "display_data"
    }
   ],
   "source": [
    "for sample_name, sample in tqdm_notebook(samples.items()):\n",
    "    # Do any peptides, by themselves (but restricted to the proteins ID'd in this sample),\n",
    "    # point to one particular species?\n",
    "    \n",
    "    # in this one sample\n",
    "    # get the peptides found\n",
    "    peptides = blazmass_tools.get_unmod_peptides(sample.dta_select)\n",
    "    if len(sample_pep_tax.get(sample_name,[])) == len(peptides):\n",
    "        continue\n",
    "    sample_pep_tax[sample_name] = dict()\n",
    "    for peptide in tqdm_notebook(peptides, desc=sample_name):\n",
    "        # for each peptide, get the proteins that contain id, but restrict to the proteins in this sample\n",
    "        # i.e. the proteins that can be made with at least 2 of the peptides in this sample (as determined by dtaselect)\n",
    "        prots = set(x['i'] for x in seqDB.find_one(peptide)['p'])\n",
    "        prots = prots & sample.prot_ids\n",
    "        # the taxids of these proteins\n",
    "        x = list(taxDB.aggregate([{'$match':{'_id':{'$in':list(prots)}}},\n",
    "                                  {'$group':{'_id':None,'taxid':{'$addToSet':\"$taxid\"}}}]))\n",
    "        if x:\n",
    "            taxIDs=[y for y in x[0]['taxid'] if y]\n",
    "            sample_pep_tax[sample_name][peptide] = taxIDs\n",
    "        else:\n",
    "            sample_pep_tax[sample_name][peptide] = []"
   ]
  },
  {
   "cell_type": "code",
   "execution_count": null,
   "metadata": {},
   "outputs": [],
   "source": [
    "sample_pep_lca = dict()\n",
    "sample_pep_lcatax = dict()\n",
    "for sample_name, pep_tax in tqdm_notebook(sample_pep_tax.items()):\n",
    "    \n",
    "    # for each peptide and associated list of taxids, get the LCA for that peptide\n",
    "    sample_pep_lca[sample_name] = dict()\n",
    "    all_taxids = set(chain(*pep_tax.values()))\n",
    "    for pep, taxIDs in tqdm_notebook(pep_tax.items()):\n",
    "        sample_pep_lca[sample_name][pep] = t.LCA(taxIDs)\n",
    "    \n",
    "    # get the associated taxonomy info\n",
    "    sample_pep_lcatax[sample_name] = dict()\n",
    "    pep_lca = sample_pep_lca[sample_name]\n",
    "    all_taxids = set(pep_lca.values())\n",
    "    taxdict = {x['taxid']:x for x in t.taxonomy_coll.find({'taxid': {'$in': list(all_taxids)}})}\n",
    "    for pep, lca in pep_lca.items():\n",
    "        if lca:\n",
    "            tax = taxdict[lca]\n",
    "            if tax['rank#'] and tax['rank#']>=16:\n",
    "                sample_pep_lcatax[sample_name][pep] = tax"
   ]
  },
  {
   "cell_type": "code",
   "execution_count": null,
   "metadata": {
    "scrolled": false
   },
   "outputs": [],
   "source": [
    "for sample_name, pep_lcatax in tqdm_notebook(sample_pep_lcatax.items()):\n",
    "    \n",
    "    species_pep = defaultdict(set)\n",
    "    pep_species = {pep:tax['scientific_name'] for pep,tax in pep_lcatax.items()}\n",
    "    for pep,species in pep_species.items():\n",
    "        species_pep[species].add(pep)\n",
    "            \n",
    "    species_pep_list = sorted(list(species_pep.items()), key=lambda x:len(x[1]), reverse=True)\n",
    "    \n",
    "    with open(os.path.join(OUT,\"organims_specific_peptides_{}.csv\".format(sample_name)), 'w') as f:\n",
    "        f.writelines('\\n'.join([x[0] + \";\" + \",\".join(x[1]) for x in species_pep_list]))\n",
    "    # Take every peptide and bring it up to family\n",
    "    # Quantify family counts\n",
    "    \n",
    "    for rank in [\"phylum\", \"family\"]:\n",
    "        organism_pep = defaultdict(set)\n",
    "        for pep, lca in tqdm_notebook(sample_pep_lca[sample_name].items()):\n",
    "            family = t.get_rank(lca, rank, \"taxid\")\n",
    "            if family:\n",
    "                organism_pep[family].add(pep)\n",
    "        \n",
    "        organism_quant = {k:sum([sample_pep_quant[sample_name][pep] for pep in peps]) for k,peps in organism_pep.items()}\n",
    "        \n",
    "        df = pd.DataFrame(organism_quant, index = ['count']).T\n",
    "        df['organism_name'] = [t.taxid_to_taxonomy(int(x))['scientific_name'] for x in df.index]\n",
    "        df=df.sort_values(\"count\",ascending=False)\n",
    "        \n",
    "        df.to_csv(os.path.join(OUT,\"{}_count_{}.csv\".format(rank, sample_name)))\n",
    "        dfs[rank][sample_name] = df"
   ]
  },
  {
   "cell_type": "code",
   "execution_count": null,
   "metadata": {},
   "outputs": [],
   "source": [
    "for rank in [\"phylum\", \"family\"]:\n",
    "    for sample_name, df in dfs[rank].items():\n",
    "        df['taxid'] = df.index\n",
    "        df['sample'] = sample_name\n",
    "    all_df = pd.concat(list(dfs[rank].values()))\n",
    "    all_df.to_csv(os.path.join(OUT,\"{}_count.csv\".format(rank)))"
   ]
  },
  {
   "cell_type": "code",
   "execution_count": null,
   "metadata": {},
   "outputs": [],
   "source": [
    "#%% pivot and plot\n",
    "def to_percent(y, position):\n",
    "    s = str(100 * y)\n",
    "    if matplotlib.rcParams['text.usetex'] is True:\n",
    "        return s + r'$\\%$'\n",
    "    else:\n",
    "        return s + '%'\n",
    "import matplotlib\n",
    "import matplotlib.pyplot as plt\n",
    "from matplotlib.ticker import FuncFormatter"
   ]
  },
  {
   "cell_type": "code",
   "execution_count": null,
   "metadata": {},
   "outputs": [],
   "source": [
    "rank = \"family\"\n",
    "all_df = pd.concat(list(dfs[rank].values()))\n",
    "f = plt.figure(figsize=(12*1.25,8*1.25))\n",
    "matplotlib.style.use('ggplot')\n",
    "df_pivot = all_df.pivot_table(values=\"count\", index=\"sample\", columns=\"organism_name\").dropna(1, thresh=3)\n",
    "\"\"\"\n",
    "if rank == \"family\":\n",
    "    del df_pivot['muridae']\n",
    "    del df_pivot['poaceae']\n",
    "    del df_pivot['hominidae']\n",
    "elif rank == \"phylum\":\n",
    "    del df_pivot['chordata']\n",
    "\"\"\"\n",
    "df_pivot.to_csv(os.path.join(OUT,\"{}_count_pivot.csv\".format(rank)))\n",
    "df_pivot = df_pivot.div(df_pivot.sum(axis=1), axis=0)\n",
    "df_pivot = df_pivot[df_pivot.columns[df_pivot.sum()>0.02]]\n",
    "df_pivot = df_pivot[df_pivot.sum().sort_values().index]\n",
    "other = pd.Series(1-df_pivot.sum(axis=1), name = \"Other\")\n",
    "df_pivot['other'] = other\n",
    "df_pivot = df_pivot[[-1]+list(range(len(df_pivot.columns)-1))]\n",
    "\n",
    "ax = df_pivot.plot.bar(stacked=True, legend = 'reverse', ylim=(0,1), ax=f.gca())\n",
    "lgd = plt.legend()\n",
    "handles, labels = ax.get_legend_handles_labels()\n",
    "lgd = plt.legend(reversed(handles), reversed(labels), loc='center left', bbox_to_anchor=(1.0, 0.5))\n",
    "ax.set_ylabel(\"Normalized Count\")\n",
    "ax.title.set_fontsize(20)\n",
    "formatter = FuncFormatter(to_percent)\n",
    "plt.gca().yaxis.set_major_formatter(formatter)\n",
    "f.subplots_adjust(right=0.8)\n",
    "f.savefig(os.path.join(OUT,\"{}_count_pivot.pdf\".format(rank)), bbox_inches='tight')\n",
    "\n",
    "#%%\n",
    "df_sum = pd.DataFrame(df_pivot.sum(1))\n",
    "df_sum['sum'] = [sample_sum[x] for x in df_sum.index]\n",
    "df_sum['p'] = df_sum[0]/df_sum['sum']\n",
    "df_sum.columns = ['phylum specific count', 'total', 'p']"
   ]
  },
  {
   "cell_type": "code",
   "execution_count": null,
   "metadata": {},
   "outputs": [],
   "source": [
    "rank = \"phylum\"\n",
    "all_df = pd.concat(list(dfs[rank].values()))\n",
    "f = plt.figure(figsize=(12*1.25,8*1.25))\n",
    "matplotlib.style.use('ggplot')\n",
    "df_pivot = all_df.pivot_table(values=\"count\", index=\"sample\", columns=\"organism_name\").dropna(1, thresh=3)\n",
    "\"\"\"\n",
    "if rank == \"family\":\n",
    "    del df_pivot['muridae']\n",
    "    del df_pivot['poaceae']\n",
    "    del df_pivot['hominidae']\n",
    "elif rank == \"phylum\":\n",
    "    del df_pivot['chordata']\n",
    "\"\"\"\n",
    "df_pivot.to_csv(os.path.join(OUT,\"{}_count_pivot.csv\".format(rank)))\n",
    "df_pivot = df_pivot.div(df_pivot.sum(axis=1), axis=0)\n",
    "df_pivot = df_pivot[df_pivot.columns[df_pivot.sum()>0.02]]\n",
    "df_pivot = df_pivot[df_pivot.sum().sort_values().index]\n",
    "other = pd.Series(1-df_pivot.sum(axis=1), name = \"Other\")\n",
    "df_pivot['other'] = other\n",
    "df_pivot = df_pivot[[-1]+list(range(len(df_pivot.columns)-1))]\n",
    "\n",
    "ax = df_pivot.plot.bar(stacked=True, legend = 'reverse', ylim=(0,1), ax=f.gca())\n",
    "lgd = plt.legend()\n",
    "handles, labels = ax.get_legend_handles_labels()\n",
    "lgd = plt.legend(reversed(handles), reversed(labels), loc='center left', bbox_to_anchor=(1.0, 0.5))\n",
    "ax.set_ylabel(\"Normalized Count\")\n",
    "ax.title.set_fontsize(20)\n",
    "formatter = FuncFormatter(to_percent)\n",
    "plt.gca().yaxis.set_major_formatter(formatter)\n",
    "f.subplots_adjust(right=0.8)\n",
    "f.savefig(os.path.join(OUT,\"{}_count_pivot.pdf\".format(rank)), bbox_inches='tight')\n",
    "\n",
    "#%%\n",
    "df_sum = pd.DataFrame(df_pivot.sum(1))\n",
    "df_sum['sum'] = [sample_sum[x] for x in df_sum.index]\n",
    "df_sum['p'] = df_sum[0]/df_sum['sum']\n",
    "df_sum.columns = ['phylum specific count', 'total', 'p']"
   ]
  },
  {
   "cell_type": "code",
   "execution_count": null,
   "metadata": {},
   "outputs": [],
   "source": []
  }
 ],
 "metadata": {
  "kernelspec": {
   "display_name": "Python 3",
   "language": "python",
   "name": "python3"
  },
  "language_info": {
   "codemirror_mode": {
    "name": "ipython",
    "version": 3
   },
   "file_extension": ".py",
   "mimetype": "text/x-python",
   "name": "python",
   "nbconvert_exporter": "python",
   "pygments_lexer": "ipython3",
   "version": "3.5.2"
  }
 },
 "nbformat": 4,
 "nbformat_minor": 2
}
